{
 "cells": [
  {
   "cell_type": "markdown",
   "metadata": {
    "id": "6Z5uV0ZuqpJN"
   },
   "source": [
    "# Instantiate BERT model"
   ]
  },
  {
   "cell_type": "code",
   "execution_count": 4,
   "metadata": {
    "colab": {
     "base_uri": "https://localhost:8080/"
    },
    "id": "23TOba33L4qf",
    "outputId": "a430ba61-bf06-42c4-d378-1f052101c816"
   },
   "outputs": [
    {
     "name": "stdout",
     "output_type": "stream",
     "text": [
      "Tue Apr 23 02:11:23 2024       \n",
      "+-----------------------------------------------------------------------------------------+\n",
      "| NVIDIA-SMI 551.78                 Driver Version: 551.78         CUDA Version: 12.4     |\n",
      "|-----------------------------------------+------------------------+----------------------+\n",
      "| GPU  Name                     TCC/WDDM  | Bus-Id          Disp.A | Volatile Uncorr. ECC |\n",
      "| Fan  Temp   Perf          Pwr:Usage/Cap |           Memory-Usage | GPU-Util  Compute M. |\n",
      "|                                         |                        |               MIG M. |\n",
      "|=========================================+========================+======================|\n",
      "|   0  Quadro RTX 5000              WDDM  |   00000000:01:00.0  On |                  N/A |\n",
      "| N/A   54C    P8             16W /  110W |    1202MiB /  16384MiB |     22%      Default |\n",
      "|                                         |                        |                  N/A |\n",
      "+-----------------------------------------+------------------------+----------------------+\n",
      "                                                                                         \n",
      "+-----------------------------------------------------------------------------------------+\n",
      "| Processes:                                                                              |\n",
      "|  GPU   GI   CI        PID   Type   Process name                              GPU Memory |\n",
      "|        ID   ID                                                               Usage      |\n",
      "|=========================================================================================|\n",
      "|    0   N/A  N/A      2004    C+G   ...AppData\\Roaming\\Spotify\\Spotify.exe      N/A      |\n",
      "|    0   N/A  N/A      9096    C+G   C:\\Windows\\explorer.exe                     N/A      |\n",
      "|    0   N/A  N/A     14572    C+G   ...nt.CBS_cw5n1h2txyewy\\SearchHost.exe      N/A      |\n",
      "|    0   N/A  N/A     14624    C+G   ...2txyewy\\StartMenuExperienceHost.exe      N/A      |\n",
      "|    0   N/A  N/A     16380    C+G   ...ns\\Software\\Current\\LogiOverlay.exe      N/A      |\n",
      "|    0   N/A  N/A     16484    C+G   ...siveControlPanel\\SystemSettings.exe      N/A      |\n",
      "|    0   N/A  N/A     16512    C+G   ...on\\123.0.2420.97\\msedgewebview2.exe      N/A      |\n",
      "|    0   N/A  N/A     16532    C+G   ...cks-services\\BlueStacksServices.exe      N/A      |\n",
      "|    0   N/A  N/A     17592    C+G   ...inaries\\Win64\\EpicGamesLauncher.exe      N/A      |\n",
      "|    0   N/A  N/A     17740    C+G   ...CBS_cw5n1h2txyewy\\TextInputHost.exe      N/A      |\n",
      "|    0   N/A  N/A     19792    C+G   ...on\\123.0.2420.65\\msedgewebview2.exe      N/A      |\n",
      "|    0   N/A  N/A     19900    C+G   ...1.0_x64__8wekyb3d8bbwe\\Video.UI.exe      N/A      |\n",
      "|    0   N/A  N/A     20760    C+G   ...al\\Discord\\app-1.0.9041\\Discord.exe      N/A      |\n",
      "|    0   N/A  N/A     21164    C+G   ...5911_x64__8wekyb3d8bbwe\\msteams.exe      N/A      |\n",
      "|    0   N/A  N/A     21172    C+G   ...500_x64__8wekyb3d8bbwe\\ms-teams.exe      N/A      |\n",
      "|    0   N/A  N/A     22352    C+G   ...\\cef\\cef.win7x64\\steamwebhelper.exe      N/A      |\n",
      "|    0   N/A  N/A     22388    C+G   ...ne\\Binaries\\Win64\\EpicWebHelper.exe      N/A      |\n",
      "|    0   N/A  N/A     23676    C+G   ...B\\system_tray\\lghub_system_tray.exe      N/A      |\n",
      "|    0   N/A  N/A     23996    C+G   ...91.0_x64__8wekyb3d8bbwe\\GameBar.exe      N/A      |\n",
      "|    0   N/A  N/A     24884    C+G   ...ekyb3d8bbwe\\PhoneExperienceHost.exe      N/A      |\n",
      "|    0   N/A  N/A     27816    C+G   ...les\\Microsoft OneDrive\\OneDrive.exe      N/A      |\n",
      "|    0   N/A  N/A     28232    C+G   ...al\\Programs\\Messenger\\Messenger.exe      N/A      |\n",
      "|    0   N/A  N/A     28360    C+G   ...crosoft\\Edge\\Application\\msedge.exe      N/A      |\n",
      "|    0   N/A  N/A     37524    C+G   ...5n1h2txyewy\\ShellExperienceHost.exe      N/A      |\n",
      "|    0   N/A  N/A     39156    C+G   ...oogle\\Chrome\\Application\\chrome.exe      N/A      |\n",
      "+-----------------------------------------------------------------------------------------+\n"
     ]
    }
   ],
   "source": [
    "gpu_info = !nvidia-smi\n",
    "gpu_info = '\\n'.join(gpu_info)\n",
    "if gpu_info.find('failed') >= 0:\n",
    "  print('Not connected to a GPU')\n",
    "else:\n",
    "  print(gpu_info)"
   ]
  },
  {
   "cell_type": "code",
   "execution_count": 5,
   "metadata": {
    "colab": {
     "base_uri": "https://localhost:8080/"
    },
    "id": "ARIriYjVgw2I",
    "outputId": "f88a5960-f166-47b2-aa7d-6ba9fb092ff3"
   },
   "outputs": [],
   "source": [
    "# BERT reference: https://www.kaggle.com/models/tensorflow/bert\n",
    "#!pip install tensorflow_hub tensorflow_text\n",
    "#!pip install keras\n",
    "import tensorflow as tf\n",
    "import tensorflow_hub as hub\n",
    "import tensorflow_text as text\n",
    "import pandas as pd\n",
    "from sklearn.model_selection import train_test_split\n",
    "from keras.utils import to_categorical\n",
    "from tensorflow import keras\n",
    "from tensorflow.keras import layers\n",
    "from tensorflow.keras.callbacks import EarlyStopping, ReduceLROnPlateau\n",
    "from tensorflow.keras.regularizers import l2\n",
    "\n",
    "import numpy as np\n",
    "from sklearn.metrics import confusion_matrix\n",
    "import seaborn as sns\n",
    "import matplotlib.pyplot as plt"
   ]
  },
  {
   "cell_type": "code",
   "execution_count": 6,
   "metadata": {
    "id": "a9aYyNB-kbhc"
   },
   "outputs": [],
   "source": [
    "preprocess_url = 'https://tfhub.dev/tensorflow/bert_en_uncased_preprocess/3'\n",
    "encoder_url = 'https://tfhub.dev/tensorflow/bert_en_uncased_L-12_H-768_A-12/4'"
   ]
  },
  {
   "cell_type": "code",
   "execution_count": 7,
   "metadata": {
    "id": "RmrmXvrRlHs5"
   },
   "outputs": [],
   "source": [
    "# Instatiate bert preprocessor\n",
    "bert_preprocessor = hub.KerasLayer(preprocess_url)"
   ]
  },
  {
   "cell_type": "markdown",
   "metadata": {
    "id": "l1fSBG0aqwLj"
   },
   "source": [
    "# Preprocess the Text"
   ]
  },
  {
   "cell_type": "code",
   "execution_count": 8,
   "metadata": {
    "colab": {
     "base_uri": "https://localhost:8080/"
    },
    "id": "P2xkMjshnJPd",
    "outputId": "363c848f-2a81-4f10-e92f-862560c610cb"
   },
   "outputs": [
    {
     "name": "stdout",
     "output_type": "stream",
     "text": [
      "dict_keys(['input_word_ids', 'input_mask', 'input_type_ids'])\n"
     ]
    }
   ],
   "source": [
    "# Create text\n",
    "test_text = ['For our children we need to make sure we have “a planet that is still hospitable in 25 years”', 'Let’s face it. There’s no PLANET B!']\n",
    "\n",
    "# Preprocess the text\n",
    "preprocessed_text = bert_preprocessor(test_text)\n",
    "\n",
    "# Keys returned from the preprocessed text\n",
    "print(preprocessed_text.keys())"
   ]
  },
  {
   "cell_type": "code",
   "execution_count": 9,
   "metadata": {
    "colab": {
     "base_uri": "https://localhost:8080/"
    },
    "id": "7Be_rzqdn4t5",
    "outputId": "170e1d6a-2cd3-43bd-d570-712f06ff1fdc"
   },
   "outputs": [
    {
     "name": "stdout",
     "output_type": "stream",
     "text": [
      "tf.Tensor(\n",
      "[[  101  2005  2256  2336  2057  2342  2000  2191  2469  2057  2031  1523\n",
      "   1037  4774  2008  2003  2145  7570 13102  6590  3468  1999  2423  2086\n",
      "   1524   102     0     0     0     0     0     0     0     0     0     0\n",
      "      0     0     0     0     0     0     0     0     0     0     0     0\n",
      "      0     0     0     0     0     0     0     0     0     0     0     0\n",
      "      0     0     0     0     0     0     0     0     0     0     0     0\n",
      "      0     0     0     0     0     0     0     0     0     0     0     0\n",
      "      0     0     0     0     0     0     0     0     0     0     0     0\n",
      "      0     0     0     0     0     0     0     0     0     0     0     0\n",
      "      0     0     0     0     0     0     0     0     0     0     0     0\n",
      "      0     0     0     0     0     0     0     0]\n",
      " [  101  2292  1521  1055  2227  2009  1012  2045  1521  1055  2053  4774\n",
      "   1038   999   102     0     0     0     0     0     0     0     0     0\n",
      "      0     0     0     0     0     0     0     0     0     0     0     0\n",
      "      0     0     0     0     0     0     0     0     0     0     0     0\n",
      "      0     0     0     0     0     0     0     0     0     0     0     0\n",
      "      0     0     0     0     0     0     0     0     0     0     0     0\n",
      "      0     0     0     0     0     0     0     0     0     0     0     0\n",
      "      0     0     0     0     0     0     0     0     0     0     0     0\n",
      "      0     0     0     0     0     0     0     0     0     0     0     0\n",
      "      0     0     0     0     0     0     0     0     0     0     0     0\n",
      "      0     0     0     0     0     0     0     0]], shape=(2, 128), dtype=int32)\n"
     ]
    }
   ],
   "source": [
    "# Shows the word ids for each word\n",
    "print(preprocessed_text['input_word_ids'])"
   ]
  },
  {
   "cell_type": "markdown",
   "metadata": {
    "id": "teG0e1fAq2MI"
   },
   "source": [
    "# Convert the text into its word embeddings"
   ]
  },
  {
   "cell_type": "code",
   "execution_count": 10,
   "metadata": {
    "colab": {
     "base_uri": "https://localhost:8080/"
    },
    "id": "TchIzCOVoZSm",
    "outputId": "b8419d0a-5e7e-4c5b-e3f3-4891a4de4fdb"
   },
   "outputs": [
    {
     "name": "stdout",
     "output_type": "stream",
     "text": [
      "dict_keys(['pooled_output', 'sequence_output', 'encoder_outputs', 'default'])\n"
     ]
    }
   ],
   "source": [
    "# Instatiate the Bert encoder to get the word embeddings\n",
    "bert_model = hub.KerasLayer(encoder_url)\n",
    "\n",
    "# Get the word embeddings from text defined earlier\n",
    "word_embeddings = bert_model(preprocessed_text)\n",
    "\n",
    "# View the word embeddings' keys\n",
    "print(word_embeddings.keys())"
   ]
  },
  {
   "cell_type": "code",
   "execution_count": 11,
   "metadata": {
    "colab": {
     "base_uri": "https://localhost:8080/"
    },
    "id": "r6VpmuabpaQb",
    "outputId": "26028bc1-cd47-4af3-af5f-4e58b0f5594d"
   },
   "outputs": [
    {
     "data": {
      "text/plain": [
       "<tf.Tensor: shape=(2, 768), dtype=float32, numpy=\n",
       "array([[-0.7947767 , -0.33802435, -0.41779047, ...,  0.00584886,\n",
       "        -0.63994193,  0.7386932 ],\n",
       "       [-0.8619382 , -0.47920284, -0.9247964 , ..., -0.8034076 ,\n",
       "        -0.72885805,  0.92103714]], dtype=float32)>"
      ]
     },
     "execution_count": 11,
     "metadata": {},
     "output_type": "execute_result"
    }
   ],
   "source": [
    "# Show the embeddings for both scentences in the text\n",
    "word_embeddings['pooled_output']"
   ]
  },
  {
   "cell_type": "markdown",
   "metadata": {
    "id": "CZl1UlVfqHUG"
   },
   "source": [
    "# Now that the sentences have been coverted to embeddings, it can be used in a neural network for different applications\n",
    "\n"
   ]
  },
  {
   "cell_type": "markdown",
   "metadata": {
    "id": "8WjYfHu7r3Oe"
   },
   "source": [
    "Once we Have our political sentiment data, we can recreate the steps below in order to train our model.\n",
    "\n",
    "For now, I tested it on a dataset for spam emails. This will be a simple neural network with a final softmax layer and an output of 2 for binary classification. When we are working with our political sentiment analysis data, we would need more (left leaning, right leaning, etc..)"
   ]
  },
  {
   "cell_type": "markdown",
   "metadata": {
    "id": "U2ac4uyg6UDg"
   },
   "source": [
    "# Process Data"
   ]
  },
  {
   "cell_type": "code",
   "execution_count": 109,
   "metadata": {
    "colab": {
     "base_uri": "https://localhost:8080/",
     "height": 206
    },
    "id": "zsYA5DkaqQcr",
    "outputId": "1df2394c-8a3a-4ea8-dcb0-1db1cd1a9709"
   },
   "outputs": [
    {
     "data": {
      "text/html": [
       "<div>\n",
       "<style scoped>\n",
       "    .dataframe tbody tr th:only-of-type {\n",
       "        vertical-align: middle;\n",
       "    }\n",
       "\n",
       "    .dataframe tbody tr th {\n",
       "        vertical-align: top;\n",
       "    }\n",
       "\n",
       "    .dataframe thead th {\n",
       "        text-align: right;\n",
       "    }\n",
       "</style>\n",
       "<table border=\"1\" class=\"dataframe\">\n",
       "  <thead>\n",
       "    <tr style=\"text-align: right;\">\n",
       "      <th></th>\n",
       "      <th>Party</th>\n",
       "      <th>Handle</th>\n",
       "      <th>Tweet</th>\n",
       "    </tr>\n",
       "  </thead>\n",
       "  <tbody>\n",
       "    <tr>\n",
       "      <th>0</th>\n",
       "      <td>Democrat</td>\n",
       "      <td>RepDarrenSoto</td>\n",
       "      <td>Today, Senate Dems vote to #SaveTheInternet. P...</td>\n",
       "    </tr>\n",
       "    <tr>\n",
       "      <th>1</th>\n",
       "      <td>Democrat</td>\n",
       "      <td>RepDarrenSoto</td>\n",
       "      <td>RT @WinterHavenSun: Winter Haven resident / Al...</td>\n",
       "    </tr>\n",
       "    <tr>\n",
       "      <th>2</th>\n",
       "      <td>Democrat</td>\n",
       "      <td>RepDarrenSoto</td>\n",
       "      <td>RT @NBCLatino: .@RepDarrenSoto noted that Hurr...</td>\n",
       "    </tr>\n",
       "    <tr>\n",
       "      <th>3</th>\n",
       "      <td>Democrat</td>\n",
       "      <td>RepDarrenSoto</td>\n",
       "      <td>RT @NALCABPolicy: Meeting with @RepDarrenSoto ...</td>\n",
       "    </tr>\n",
       "    <tr>\n",
       "      <th>4</th>\n",
       "      <td>Democrat</td>\n",
       "      <td>RepDarrenSoto</td>\n",
       "      <td>RT @Vegalteno: Hurricane season starts on June...</td>\n",
       "    </tr>\n",
       "    <tr>\n",
       "      <th>...</th>\n",
       "      <td>...</td>\n",
       "      <td>...</td>\n",
       "      <td>...</td>\n",
       "    </tr>\n",
       "    <tr>\n",
       "      <th>86455</th>\n",
       "      <td>Republican</td>\n",
       "      <td>RepTomPrice</td>\n",
       "      <td>Check out my op-ed on need for End Executive O...</td>\n",
       "    </tr>\n",
       "    <tr>\n",
       "      <th>86456</th>\n",
       "      <td>Republican</td>\n",
       "      <td>RepTomPrice</td>\n",
       "      <td>Yesterday, Betty &amp;amp; I had a great time lear...</td>\n",
       "    </tr>\n",
       "    <tr>\n",
       "      <th>86457</th>\n",
       "      <td>Republican</td>\n",
       "      <td>RepTomPrice</td>\n",
       "      <td>We are forever grateful for the service and sa...</td>\n",
       "    </tr>\n",
       "    <tr>\n",
       "      <th>86458</th>\n",
       "      <td>Republican</td>\n",
       "      <td>RepTomPrice</td>\n",
       "      <td>Happy first day of school @CobbSchools! #CobbB...</td>\n",
       "    </tr>\n",
       "    <tr>\n",
       "      <th>86459</th>\n",
       "      <td>Republican</td>\n",
       "      <td>RepTomPrice</td>\n",
       "      <td>#Zika fears realized in Florida. House GOP act...</td>\n",
       "    </tr>\n",
       "  </tbody>\n",
       "</table>\n",
       "<p>86460 rows × 3 columns</p>\n",
       "</div>"
      ],
      "text/plain": [
       "            Party         Handle  \\\n",
       "0        Democrat  RepDarrenSoto   \n",
       "1        Democrat  RepDarrenSoto   \n",
       "2        Democrat  RepDarrenSoto   \n",
       "3        Democrat  RepDarrenSoto   \n",
       "4        Democrat  RepDarrenSoto   \n",
       "...           ...            ...   \n",
       "86455  Republican    RepTomPrice   \n",
       "86456  Republican    RepTomPrice   \n",
       "86457  Republican    RepTomPrice   \n",
       "86458  Republican    RepTomPrice   \n",
       "86459  Republican    RepTomPrice   \n",
       "\n",
       "                                                   Tweet  \n",
       "0      Today, Senate Dems vote to #SaveTheInternet. P...  \n",
       "1      RT @WinterHavenSun: Winter Haven resident / Al...  \n",
       "2      RT @NBCLatino: .@RepDarrenSoto noted that Hurr...  \n",
       "3      RT @NALCABPolicy: Meeting with @RepDarrenSoto ...  \n",
       "4      RT @Vegalteno: Hurricane season starts on June...  \n",
       "...                                                  ...  \n",
       "86455  Check out my op-ed on need for End Executive O...  \n",
       "86456  Yesterday, Betty &amp; I had a great time lear...  \n",
       "86457  We are forever grateful for the service and sa...  \n",
       "86458  Happy first day of school @CobbSchools! #CobbB...  \n",
       "86459  #Zika fears realized in Florida. House GOP act...  \n",
       "\n",
       "[86460 rows x 3 columns]"
      ]
     },
     "execution_count": 109,
     "metadata": {},
     "output_type": "execute_result"
    }
   ],
   "source": [
    "# Read in file\n",
    "data = pd.read_csv('ExtractedTweets.csv', encoding='latin1')\n",
    "\n",
    "# Show some data\n",
    "data"
   ]
  },
  {
   "cell_type": "code",
   "execution_count": 110,
   "metadata": {
    "colab": {
     "base_uri": "https://localhost:8080/",
     "height": 448
    },
    "id": "31Emn-jCt3av",
    "outputId": "b0b11f7e-a624-4108-81c9-1fe3ff5d7688"
   },
   "outputs": [
    {
     "data": {
      "text/plain": [
       "<AxesSubplot:>"
      ]
     },
     "execution_count": 110,
     "metadata": {},
     "output_type": "execute_result"
    },
    {
     "data": {
      "image/png": "[encoded data removed]",
      "text/plain": [
       "<Figure size 640x480 with 1 Axes>"
      ]
     },
     "metadata": {},
     "output_type": "display_data"
    }
   ],
   "source": [
    "# Show data Imbalance\n",
    "data['Party'].hist()"
   ]
  },
  {
   "cell_type": "code",
   "execution_count": 111,
   "metadata": {
    "colab": {
     "base_uri": "https://localhost:8080/"
    },
    "id": "l294HifWwjHh",
    "outputId": "45f88db6-4dba-4ebf-8e50-2e53e902d6b7"
   },
   "outputs": [
    {
     "data": {
      "text/plain": [
       "(42068, 3)"
      ]
     },
     "execution_count": 111,
     "metadata": {},
     "output_type": "execute_result"
    }
   ],
   "source": [
    "# Seperate only democrat data\n",
    "data_democrat = data[data['Party'] == 'Democrat']\n",
    "data_democrat.shape"
   ]
  },
  {
   "cell_type": "code",
   "execution_count": 112,
   "metadata": {
    "colab": {
     "base_uri": "https://localhost:8080/"
    },
    "id": "qm7a33K9xzHF",
    "outputId": "514ddfd5-30a4-45d0-e999-e66cdde70b7c"
   },
   "outputs": [
    {
     "data": {
      "text/plain": [
       "(44392, 3)"
      ]
     },
     "execution_count": 112,
     "metadata": {},
     "output_type": "execute_result"
    }
   ],
   "source": [
    "# Seperate only Republican data\n",
    "data_republican = data[data['Party'] == 'Republican']\n",
    "data_republican.shape"
   ]
  },
  {
   "cell_type": "code",
   "execution_count": 153,
   "metadata": {
    "colab": {
     "base_uri": "https://localhost:8080/"
    },
    "id": "9808k97tx5PY",
    "outputId": "d760c92c-52e5-43a2-f681-1b53f9a53b80"
   },
   "outputs": [
    {
     "name": "stdout",
     "output_type": "stream",
     "text": [
      "(4000, 3)\n",
      "(4000, 3)\n"
     ]
    }
   ],
   "source": [
    "# Down sample Republican data to avoid overfitting\n",
    "data_republican_downsampled = data_republican.sample(4000)\n",
    "print(data_republican_downsampled.shape)\n",
    "\n",
    "data_democrat_downsampled = data_democrat.sample(4000)\n",
    "print(data_democrat_downsampled.shape)"
   ]
  },
  {
   "cell_type": "code",
   "execution_count": 154,
   "metadata": {
    "colab": {
     "base_uri": "https://localhost:8080/"
    },
    "id": "5u8pTl9gyV6C",
    "outputId": "fc2b64d8-dc8c-4ea2-82b5-9cca9931399b"
   },
   "outputs": [
    {
     "data": {
      "text/plain": [
       "(8000, 3)"
      ]
     },
     "execution_count": 154,
     "metadata": {},
     "output_type": "execute_result"
    }
   ],
   "source": [
    "# Merge samples backtogether again\n",
    "final_data = pd.concat([data_democrat_downsampled, data_republican_downsampled])\n",
    "final_data.shape"
   ]
  },
  {
   "cell_type": "code",
   "execution_count": 155,
   "metadata": {
    "colab": {
     "base_uri": "https://localhost:8080/",
     "height": 519
    },
    "id": "aSc6rod7ylut",
    "outputId": "4a2d33f7-4d61-4eab-b45b-5a1acf7cfb7b"
   },
   "outputs": [
    {
     "name": "stdout",
     "output_type": "stream",
     "text": [
      "Democrat      4000\n",
      "Republican    4000\n",
      "Name: Party, dtype: int64\n"
     ]
    },
    {
     "data": {
      "text/plain": [
       "<AxesSubplot:>"
      ]
     },
     "execution_count": 155,
     "metadata": {},
     "output_type": "execute_result"
    },
    {
     "data": {
      "image/png": "[encoded data removed]",
      "text/plain": [
       "<Figure size 640x480 with 1 Axes>"
      ]
     },
     "metadata": {},
     "output_type": "display_data"
    }
   ],
   "source": [
    "# Check downsampled dataset\n",
    "print(final_data['Party'].value_counts())\n",
    "final_data['Party'].hist()"
   ]
  },
  {
   "cell_type": "code",
   "execution_count": 236,
   "metadata": {
    "colab": {
     "base_uri": "https://localhost:8080/",
     "height": 224
    },
    "id": "kuNvYW_cy9d8",
    "outputId": "92a410cb-15fa-4930-fa1b-bd38fd6fc98a"
   },
   "outputs": [
    {
     "name": "stdout",
     "output_type": "stream",
     "text": [
      "Shape of final data: (8000, 4)\n"
     ]
    },
    {
     "data": {
      "text/html": [
       "<div>\n",
       "<style scoped>\n",
       "    .dataframe tbody tr th:only-of-type {\n",
       "        vertical-align: middle;\n",
       "    }\n",
       "\n",
       "    .dataframe tbody tr th {\n",
       "        vertical-align: top;\n",
       "    }\n",
       "\n",
       "    .dataframe thead th {\n",
       "        text-align: right;\n",
       "    }\n",
       "</style>\n",
       "<table border=\"1\" class=\"dataframe\">\n",
       "  <thead>\n",
       "    <tr style=\"text-align: right;\">\n",
       "      <th></th>\n",
       "      <th>Party</th>\n",
       "      <th>Handle</th>\n",
       "      <th>Tweet</th>\n",
       "      <th>Type</th>\n",
       "    </tr>\n",
       "  </thead>\n",
       "  <tbody>\n",
       "    <tr>\n",
       "      <th>13087</th>\n",
       "      <td>Democrat</td>\n",
       "      <td>RepJoeKennedy</td>\n",
       "      <td>Banning transgender men and women from serving...</td>\n",
       "      <td>1</td>\n",
       "    </tr>\n",
       "    <tr>\n",
       "      <th>3491</th>\n",
       "      <td>Democrat</td>\n",
       "      <td>RepRaskin</td>\n",
       "      <td>RT @oliverdarcy: Democratic Rep. Jamie Raskin ...</td>\n",
       "      <td>1</td>\n",
       "    </tr>\n",
       "    <tr>\n",
       "      <th>15474</th>\n",
       "      <td>Democrat</td>\n",
       "      <td>RepCummings</td>\n",
       "      <td>Make sure to come out to my 21st annual Job Fa...</td>\n",
       "      <td>1</td>\n",
       "    </tr>\n",
       "    <tr>\n",
       "      <th>21155</th>\n",
       "      <td>Democrat</td>\n",
       "      <td>RepMaloney</td>\n",
       "      <td>For too many survivors of domestic abuse, flee...</td>\n",
       "      <td>1</td>\n",
       "    </tr>\n",
       "    <tr>\n",
       "      <th>27758</th>\n",
       "      <td>Democrat</td>\n",
       "      <td>gracenapolitano</td>\n",
       "      <td>Judge Alsupâs decision is right one but no s...</td>\n",
       "      <td>1</td>\n",
       "    </tr>\n",
       "  </tbody>\n",
       "</table>\n",
       "</div>"
      ],
      "text/plain": [
       "          Party           Handle  \\\n",
       "13087  Democrat    RepJoeKennedy   \n",
       "3491   Democrat        RepRaskin   \n",
       "15474  Democrat      RepCummings   \n",
       "21155  Democrat       RepMaloney   \n",
       "27758  Democrat  gracenapolitano   \n",
       "\n",
       "                                                   Tweet  Type  \n",
       "13087  Banning transgender men and women from serving...     1  \n",
       "3491   RT @oliverdarcy: Democratic Rep. Jamie Raskin ...     1  \n",
       "15474  Make sure to come out to my 21st annual Job Fa...     1  \n",
       "21155  For too many survivors of domestic abuse, flee...     1  \n",
       "27758  Judge Alsupâs decision is right one but no s...     1  "
      ]
     },
     "execution_count": 236,
     "metadata": {},
     "output_type": "execute_result"
    }
   ],
   "source": [
    "print('Shape of final data: ' + str(final_data.shape))\n",
    "final_data.sample(5)"
   ]
  },
  {
   "cell_type": "code",
   "execution_count": 157,
   "metadata": {
    "id": "kV2MjAtx05-Q"
   },
   "outputs": [
    {
     "data": {
      "text/html": [
       "<div>\n",
       "<style scoped>\n",
       "    .dataframe tbody tr th:only-of-type {\n",
       "        vertical-align: middle;\n",
       "    }\n",
       "\n",
       "    .dataframe tbody tr th {\n",
       "        vertical-align: top;\n",
       "    }\n",
       "\n",
       "    .dataframe thead th {\n",
       "        text-align: right;\n",
       "    }\n",
       "</style>\n",
       "<table border=\"1\" class=\"dataframe\">\n",
       "  <thead>\n",
       "    <tr style=\"text-align: right;\">\n",
       "      <th></th>\n",
       "      <th>Party</th>\n",
       "      <th>Handle</th>\n",
       "      <th>Tweet</th>\n",
       "      <th>Type</th>\n",
       "    </tr>\n",
       "  </thead>\n",
       "  <tbody>\n",
       "    <tr>\n",
       "      <th>29045</th>\n",
       "      <td>Democrat</td>\n",
       "      <td>RepTedDeutch</td>\n",
       "      <td>Yes @realDonaldTrump we need to empower law en...</td>\n",
       "      <td>1</td>\n",
       "    </tr>\n",
       "    <tr>\n",
       "      <th>20092</th>\n",
       "      <td>Democrat</td>\n",
       "      <td>RepBobbyRush</td>\n",
       "      <td>Working families have been left behind for far...</td>\n",
       "      <td>1</td>\n",
       "    </tr>\n",
       "    <tr>\n",
       "      <th>13540</th>\n",
       "      <td>Democrat</td>\n",
       "      <td>USRepRickNolan</td>\n",
       "      <td>So today we take a moment of silence to honor ...</td>\n",
       "      <td>1</td>\n",
       "    </tr>\n",
       "    <tr>\n",
       "      <th>16122</th>\n",
       "      <td>Democrat</td>\n",
       "      <td>RepMarcyKaptur</td>\n",
       "      <td>\"Wall Street bonus pay dwarfs that of the aver...</td>\n",
       "      <td>1</td>\n",
       "    </tr>\n",
       "    <tr>\n",
       "      <th>34541</th>\n",
       "      <td>Democrat</td>\n",
       "      <td>AlanGrayson</td>\n",
       "      <td>Yes, it is my birthday.\\nYes, I turn 60 today....</td>\n",
       "      <td>1</td>\n",
       "    </tr>\n",
       "  </tbody>\n",
       "</table>\n",
       "</div>"
      ],
      "text/plain": [
       "          Party          Handle  \\\n",
       "29045  Democrat    RepTedDeutch   \n",
       "20092  Democrat    RepBobbyRush   \n",
       "13540  Democrat  USRepRickNolan   \n",
       "16122  Democrat  RepMarcyKaptur   \n",
       "34541  Democrat     AlanGrayson   \n",
       "\n",
       "                                                   Tweet  Type  \n",
       "29045  Yes @realDonaldTrump we need to empower law en...     1  \n",
       "20092  Working families have been left behind for far...     1  \n",
       "13540  So today we take a moment of silence to honor ...     1  \n",
       "16122  \"Wall Street bonus pay dwarfs that of the aver...     1  \n",
       "34541  Yes, it is my birthday.\\nYes, I turn 60 today....     1  "
      ]
     },
     "execution_count": 157,
     "metadata": {},
     "output_type": "execute_result"
    }
   ],
   "source": [
    "# Convert Democrats and Republicans to 1s and 0s and store it in a new column named Type\n",
    "final_data['Type'] = final_data['Party'].apply(lambda x: 1 if x=='Democrat' else 0)\n",
    "final_data.head()"
   ]
  },
  {
   "cell_type": "markdown",
   "metadata": {
    "id": "ZgiYIuln6YJt"
   },
   "source": [
    "# Get word embeddings for data"
   ]
  },
  {
   "cell_type": "code",
   "execution_count": 158,
   "metadata": {
    "id": "il2uR_iC2ssN"
   },
   "outputs": [],
   "source": [
    "X_train, X_test, y_train, y_test = train_test_split(final_data.drop(['Handle', 'Type', 'Party'], axis=1),\n",
    "                                                   final_data['Type'],\n",
    "                                                   stratify=final_data['Type'],)\n"
   ]
  },
  {
   "cell_type": "code",
   "execution_count": 244,
   "metadata": {
    "colab": {
     "base_uri": "https://localhost:8080/"
    },
    "id": "ZBjwhd9e3cTC",
    "outputId": "fd1252a9-bb32-485f-871b-bd6520187931"
   },
   "outputs": [
    {
     "data": {
      "text/html": [
       "<div>\n",
       "<style scoped>\n",
       "    .dataframe tbody tr th:only-of-type {\n",
       "        vertical-align: middle;\n",
       "    }\n",
       "\n",
       "    .dataframe tbody tr th {\n",
       "        vertical-align: top;\n",
       "    }\n",
       "\n",
       "    .dataframe thead th {\n",
       "        text-align: right;\n",
       "    }\n",
       "</style>\n",
       "<table border=\"1\" class=\"dataframe\">\n",
       "  <thead>\n",
       "    <tr style=\"text-align: right;\">\n",
       "      <th></th>\n",
       "      <th>Tweet</th>\n",
       "    </tr>\n",
       "  </thead>\n",
       "  <tbody>\n",
       "    <tr>\n",
       "      <th>56909</th>\n",
       "      <td>Great discussing #infrastructure with engineer...</td>\n",
       "    </tr>\n",
       "    <tr>\n",
       "      <th>64608</th>\n",
       "      <td>Look forward to hosting four town hall meeting...</td>\n",
       "    </tr>\n",
       "    <tr>\n",
       "      <th>33661</th>\n",
       "      <td>I stand with the courageous students of Bellev...</td>\n",
       "    </tr>\n",
       "    <tr>\n",
       "      <th>28048</th>\n",
       "      <td>LAST CALL: If you have not already, visit our ...</td>\n",
       "    </tr>\n",
       "    <tr>\n",
       "      <th>84172</th>\n",
       "      <td>Watch @tmcf_hbcu President and CEO @DrHLWillia...</td>\n",
       "    </tr>\n",
       "    <tr>\n",
       "      <th>43614</th>\n",
       "      <td>Tomorrow, Iâll be speaking with constituents...</td>\n",
       "    </tr>\n",
       "    <tr>\n",
       "      <th>84000</th>\n",
       "      <td>Very saddened to hear of the passing of Louise...</td>\n",
       "    </tr>\n",
       "    <tr>\n",
       "      <th>22358</th>\n",
       "      <td>Human trafficking is a very real &amp;amp; dire at...</td>\n",
       "    </tr>\n",
       "    <tr>\n",
       "      <th>80928</th>\n",
       "      <td>RT @WhiteHouse: The unemployment rate is down ...</td>\n",
       "    </tr>\n",
       "    <tr>\n",
       "      <th>33645</th>\n",
       "      <td>RT @PATHadvocacy: Ensuring that the world is s...</td>\n",
       "    </tr>\n",
       "  </tbody>\n",
       "</table>\n",
       "</div>"
      ],
      "text/plain": [
       "                                                   Tweet\n",
       "56909  Great discussing #infrastructure with engineer...\n",
       "64608  Look forward to hosting four town hall meeting...\n",
       "33661  I stand with the courageous students of Bellev...\n",
       "28048  LAST CALL: If you have not already, visit our ...\n",
       "84172  Watch @tmcf_hbcu President and CEO @DrHLWillia...\n",
       "43614  Tomorrow, Iâll be speaking with constituents...\n",
       "84000  Very saddened to hear of the passing of Louise...\n",
       "22358  Human trafficking is a very real &amp; dire at...\n",
       "80928  RT @WhiteHouse: The unemployment rate is down ...\n",
       "33645  RT @PATHadvocacy: Ensuring that the world is s..."
      ]
     },
     "execution_count": 244,
     "metadata": {},
     "output_type": "execute_result"
    }
   ],
   "source": [
    "X_train.sample(10)"
   ]
  },
  {
   "cell_type": "code",
   "execution_count": 160,
   "metadata": {
    "colab": {
     "base_uri": "https://localhost:8080/"
    },
    "id": "jpy5SyPi4z4d",
    "outputId": "e5fe09f7-fe8a-4d1c-9227-b1746f3776d4"
   },
   "outputs": [
    {
     "data": {
      "text/plain": [
       "<tf.Tensor: shape=(2, 768), dtype=float32, numpy=\n",
       "array([[-0.80620724, -0.5964184 , -0.94833714, ..., -0.6672187 ,\n",
       "        -0.7357474 ,  0.8414114 ],\n",
       "       [-0.74085057, -0.56042403, -0.9202296 , ..., -0.67929494,\n",
       "        -0.7568353 ,  0.763301  ]], dtype=float32)>"
      ]
     },
     "execution_count": 160,
     "metadata": {},
     "output_type": "execute_result"
    }
   ],
   "source": [
    "# Defines a function to get the scentence embeddings for each entry\n",
    "def get_sentence_embedding(sentences):\n",
    "  # preprocess words\n",
    "  preprocessed_text = bert_preprocessor(sentences)\n",
    "\n",
    "  # get embedding vectors from the pooled_output key\n",
    "  return bert_model(preprocessed_text)['pooled_output']\n",
    "\n",
    "# Small scale driver to test function\n",
    "get_sentence_embedding([\n",
    "    \"#FACT: 24 percent of Americans said they didn‚Äôt fill a prescription in the previous year because of the high cost.‚Ä¶ https://t.co/meU89Ikiqm\",\n",
    "    \"Today we welcome a new vessel to the USCG fleet patrolling the NC coastline. The CG Cutter Richard Snyder will be t‚Ä¶ https://t.co/9RpMjIGkVh\"\n",
    "])"
   ]
  },
  {
   "cell_type": "code",
   "execution_count": 161,
   "metadata": {
    "colab": {
     "base_uri": "https://localhost:8080/",
     "height": 180
    },
    "id": "cxiADlp6L1Cd",
    "outputId": "f1ac9ad5-d485-4d4f-f95f-2fe810d563b4"
   },
   "outputs": [],
   "source": [
    "# Convert the y vectors for the softmax function\n",
    "y_train_one_hot = to_categorical(y_train, num_classes=2)\n",
    "y_test_one_hot = to_categorical(y_test, num_classes=2)"
   ]
  },
  {
   "cell_type": "markdown",
   "metadata": {
    "id": "pMpd5qBo72p0"
   },
   "source": [
    "# Create Neural Network\n"
   ]
  },
  {
   "cell_type": "code",
   "execution_count": 176,
   "metadata": {
    "id": "tTk1YYHq7bkS"
   },
   "outputs": [],
   "source": [
    "# BERT preprocessing\n",
    "text_input = keras.layers.Input(shape=(), dtype=tf.string, name='text')\n",
    "preprocessed_text = bert_preprocessor(text_input)\n",
    "outputs = bert_model(preprocessed_text)\n",
    "\n",
    "# Add recurrent layer (LSTM)\n",
    "recurrentLayer = tf.keras.layers.LSTM(\n",
    "    150, \n",
    "    name='recurrent', \n",
    "    return_sequences=False,  # If you'd like the last output, set this to False\n",
    "    kernel_regularizer=tf.keras.regularizers.l2(0.002)\n",
    ")(outputs['sequence_output'])  # Using sequence_output for RNN\n",
    "\n",
    "batchNormLayer1 = tf.keras.layers.BatchNormalization()(recurrentLayer)\n",
    "dropoutLayer1 = tf.keras.layers.Dropout(0.3, name='dropout1')(batchNormLayer1)\n",
    "\n",
    "# Output layer\n",
    "outputLayer = tf.keras.layers.Dense(2, activation='softmax', name='output')(dropoutLayer1)\n",
    "\n",
    "# Final model\n",
    "model = tf.keras.Model(inputs=[text_input], outputs=[outputLayer])\n"
   ]
  },
  {
   "cell_type": "code",
   "execution_count": 177,
   "metadata": {
    "colab": {
     "base_uri": "https://localhost:8080/",
     "height": 238
    },
    "id": "sROWiuwrI4Jf",
    "outputId": "7e14965f-f3ed-41b0-91d0-f7e9771c0065"
   },
   "outputs": [
    {
     "name": "stdout",
     "output_type": "stream",
     "text": [
      "Model: \"model_11\"\n",
      "__________________________________________________________________________________________________\n",
      " Layer (type)                   Output Shape         Param #     Connected to                     \n",
      "==================================================================================================\n",
      " text (InputLayer)              [(None,)]            0           []                               \n",
      "                                                                                                  \n",
      " keras_layer (KerasLayer)       {'input_word_ids':   0           ['text[0][0]']                   \n",
      "                                (None, 128),                                                      \n",
      "                                 'input_mask': (Non                                               \n",
      "                                e, 128),                                                          \n",
      "                                 'input_type_ids':                                                \n",
      "                                (None, 128)}                                                      \n",
      "                                                                                                  \n",
      " keras_layer_1 (KerasLayer)     {'pooled_output': (  109482241   ['keras_layer[13][0]',           \n",
      "                                None, 768),                       'keras_layer[13][1]',           \n",
      "                                 'sequence_output':               'keras_layer[13][2]']           \n",
      "                                 (None, 128, 768),                                                \n",
      "                                 'encoder_outputs':                                               \n",
      "                                 [(None, 128, 768),                                               \n",
      "                                 (None, 128, 768),                                                \n",
      "                                 (None, 128, 768),                                                \n",
      "                                 (None, 128, 768),                                                \n",
      "                                 (None, 128, 768),                                                \n",
      "                                 (None, 128, 768),                                                \n",
      "                                 (None, 128, 768),                                                \n",
      "                                 (None, 128, 768),                                                \n",
      "                                 (None, 128, 768),                                                \n",
      "                                 (None, 128, 768),                                                \n",
      "                                 (None, 128, 768),                                                \n",
      "                                 (None, 128, 768)],                                               \n",
      "                                 'default': (None,                                                \n",
      "                                768)}                                                             \n",
      "                                                                                                  \n",
      " recurrent (LSTM)               (None, 150)          551400      ['keras_layer_1[13][14]']        \n",
      "                                                                                                  \n",
      " batch_normalization_18 (BatchN  (None, 150)         600         ['recurrent[0][0]']              \n",
      " ormalization)                                                                                    \n",
      "                                                                                                  \n",
      " dropout1 (Dropout)             (None, 150)          0           ['batch_normalization_18[0][0]'] \n",
      "                                                                                                  \n",
      " output (Dense)                 (None, 2)            302         ['dropout1[0][0]']               \n",
      "                                                                                                  \n",
      "==================================================================================================\n",
      "Total params: 110,034,543\n",
      "Trainable params: 552,002\n",
      "Non-trainable params: 109,482,541\n",
      "__________________________________________________________________________________________________\n"
     ]
    }
   ],
   "source": [
    "# Get the model's summary\n",
    "model.summary()"
   ]
  },
  {
   "cell_type": "code",
   "execution_count": 178,
   "metadata": {
    "id": "J4dWnZ6yJXHP"
   },
   "outputs": [],
   "source": [
    "learning_rate = 0.0005  # increased learning rate\n",
    "model.compile(\n",
    "    optimizer=keras.optimizers.Adam(learning_rate=learning_rate),\n",
    "    loss='categorical_crossentropy',\n",
    "    metrics=['accuracy']\n",
    ")\n"
   ]
  },
  {
   "cell_type": "code",
   "execution_count": 179,
   "metadata": {
    "colab": {
     "base_uri": "https://localhost:8080/"
    },
    "id": "zoVSMpC5KS_D",
    "outputId": "5d47aa40-6628-43be-e4b3-855dac5c2de2"
   },
   "outputs": [
    {
     "name": "stdout",
     "output_type": "stream",
     "text": [
      "Epoch 1/10\n",
      "188/188 [==============================] - 83s 394ms/step - loss: 2.0586 - accuracy: 0.5405 - val_loss: 1.6557 - val_accuracy: 0.5810 - lr: 5.0000e-04\n",
      "Epoch 2/10\n",
      "188/188 [==============================] - 74s 392ms/step - loss: 1.5903 - accuracy: 0.5755 - val_loss: 1.4144 - val_accuracy: 0.5475 - lr: 5.0000e-04\n",
      "Epoch 3/10\n",
      "188/188 [==============================] - 74s 395ms/step - loss: 1.3189 - accuracy: 0.5988 - val_loss: 1.2137 - val_accuracy: 0.6010 - lr: 5.0000e-04\n",
      "Epoch 4/10\n",
      "188/188 [==============================] - 74s 396ms/step - loss: 1.1421 - accuracy: 0.6267 - val_loss: 1.0965 - val_accuracy: 0.5900 - lr: 5.0000e-04\n",
      "Epoch 5/10\n",
      "188/188 [==============================] - 75s 402ms/step - loss: 1.0006 - accuracy: 0.6507 - val_loss: 1.0386 - val_accuracy: 0.5860 - lr: 5.0000e-04\n",
      "Epoch 6/10\n",
      "188/188 [==============================] - 75s 399ms/step - loss: 0.9220 - accuracy: 0.6535 - val_loss: 0.9301 - val_accuracy: 0.6265 - lr: 5.0000e-04\n",
      "Epoch 7/10\n",
      "188/188 [==============================] - 75s 399ms/step - loss: 0.8478 - accuracy: 0.6673 - val_loss: 0.9229 - val_accuracy: 0.5735 - lr: 5.0000e-04\n",
      "Epoch 8/10\n",
      "188/188 [==============================] - 75s 398ms/step - loss: 0.7922 - accuracy: 0.6817 - val_loss: 0.8664 - val_accuracy: 0.6255 - lr: 5.0000e-04\n",
      "Epoch 9/10\n",
      "188/188 [==============================] - 75s 401ms/step - loss: 0.7314 - accuracy: 0.7085 - val_loss: 0.8158 - val_accuracy: 0.6535 - lr: 5.0000e-04\n",
      "Epoch 10/10\n",
      "188/188 [==============================] - 75s 400ms/step - loss: 0.7023 - accuracy: 0.7108 - val_loss: 0.7631 - val_accuracy: 0.6530 - lr: 5.0000e-04\n"
     ]
    }
   ],
   "source": [
    "from tensorflow.keras.callbacks import EarlyStopping, ReduceLROnPlateau\n",
    "\n",
    "# Set up early stopping with restoring best weights\n",
    "early_stopping = EarlyStopping(\n",
    "    monitor='val_loss',\n",
    "    patience=3,\n",
    "    restore_best_weights=True\n",
    ")\n",
    "\n",
    "# Set up learning rate adjustment\n",
    "reduce_lr = ReduceLROnPlateau(\n",
    "    monitor='val_loss',\n",
    "    factor=0.5,\n",
    "    patience=2,\n",
    "    verbose=1\n",
    ")\n",
    "\n",
    "# Callback list with early stopping and learning rate reduction\n",
    "callbacks = [early_stopping, reduce_lr]\n",
    "results = model.fit(\n",
    "    X_train,\n",
    "    y_train_one_hot,\n",
    "    epochs=10,  # extended training period\n",
    "    validation_data=(X_test, y_test_one_hot),  # include validation set\n",
    "    callbacks=callbacks\n",
    ")"
   ]
  },
  {
   "cell_type": "code",
   "execution_count": 180,
   "metadata": {
    "colab": {
     "base_uri": "https://localhost:8080/"
    },
    "id": "Jo4OCYzrLOzZ",
    "outputId": "caeba43d-1ff5-404d-9779-caf3922c4a33"
   },
   "outputs": [
    {
     "name": "stdout",
     "output_type": "stream",
     "text": [
      "Accuracy on Testing Set:\n",
      "63/63 [==============================] - 19s 291ms/step - loss: 0.7631 - accuracy: 0.6530\n"
     ]
    },
    {
     "data": {
      "text/plain": [
       "[0.7630763053894043, 0.652999997138977]"
      ]
     },
     "execution_count": 180,
     "metadata": {},
     "output_type": "execute_result"
    }
   ],
   "source": [
    "print('Accuracy on Testing Set:')\n",
    "model.evaluate(X_test, y_test_one_hot)"
   ]
  },
  {
   "cell_type": "markdown",
   "metadata": {
    "id": "R1yOVsMDNJMe"
   },
   "source": [
    "# Results"
   ]
  },
  {
   "cell_type": "code",
   "execution_count": 181,
   "metadata": {
    "colab": {
     "base_uri": "https://localhost:8080/",
     "height": 447
    },
    "id": "dyhjlGXvR-wN",
    "outputId": "b8355d39-0e5e-4e80-d23d-561cacb84501",
    "scrolled": true
   },
   "outputs": [
    {
     "data": {
      "text/plain": [
       "<matplotlib.legend.Legend at 0x1d8a7593e48>"
      ]
     },
     "execution_count": 181,
     "metadata": {},
     "output_type": "execute_result"
    },
    {
     "data": {
      "image/png": "[encoded data removed]",
      "text/plain": [
       "<Figure size 640x480 with 1 Axes>"
      ]
     },
     "metadata": {},
     "output_type": "display_data"
    }
   ],
   "source": [
    "# Plot Accuracy\n",
    "plt.plot(results.history['accuracy'], label='Training accuracy')\n",
    "plt.plot(results.history['val_accuracy'], label='val_accuracy')\n",
    "plt.legend()"
   ]
  },
  {
   "cell_type": "code",
   "execution_count": 246,
   "metadata": {
    "id": "feP1t-wWcBcR",
    "outputId": "4e39eb98-f50a-4e53-96a9-75948efe5957"
   },
   "outputs": [
    {
     "name": "stdout",
     "output_type": "stream",
     "text": [
      "1/1 [==============================] - 0s 65ms/step\n",
      "Sample: 'I do not like trump'\n",
      "Prediction: Democrat \n",
      "\n",
      "Sample: 'I like taxes and the government'\n",
      "Prediction: Republican \n",
      "\n",
      "Sample: 'Our mission is to fight for our most vulnerable communities, protect working families and ensure that we live up to the promises of the California dream..'\n",
      "Prediction: Democrat \n",
      "\n",
      "Sample: 'I am a republican'\n",
      "Prediction: Republican \n",
      "\n",
      "Sample: 'My dad was republican, but i am a democrat'\n",
      "Prediction: Democrat \n",
      "\n",
      "Sample: 'I do not like this new tiktok bill'\n",
      "Prediction: Democrat \n",
      "\n"
     ]
    }
   ],
   "source": [
    "reviews = [\n",
    "    'I do not like trump',\n",
    "    'I like taxes and the government',\n",
    "    'Our mission is to fight for our most vulnerable communities, protect working families and ensure that we live up to the promises of the California dream..',\n",
    "    'I am a republican',\n",
    "    'My dad was republican, but i am a democrat',\n",
    "    'I do not like this new tiktok bill'\n",
    "]\n",
    "\n",
    "# Will outputs\n",
    "predictions = model.predict(reviews)\n",
    "y_predicted_classes = np.argmax(predictions, axis=1)\n",
    "y_predicted_classes\n",
    "\n",
    "for k in range(len(y_predicted_classes)):\n",
    "    if y_predicted_classes[k] == 0:\n",
    "        label = \"Republican\"\n",
    "    elif y_predicted_classes[k] == 1:\n",
    "        label = \"Democrat\"\n",
    "    # Display the sample text and its predicted output\n",
    "    print(f\"Sample: '{reviews[k]}'\")\n",
    "    print(f\"Prediction: {label} \\n\")"
   ]
  }
 ],
 "metadata": {
  "accelerator": "GPU",
  "colab": {
   "gpuType": "T4",
   "provenance": []
  },
  "kernelspec": {
   "display_name": "Python 3 (ipykernel)",
   "language": "python",
   "name": "python3"
  },
  "language_info": {
   "codemirror_mode": {
    "name": "ipython",
    "version": 3
   },
   "file_extension": ".py",
   "mimetype": "text/x-python",
   "name": "python",
   "nbconvert_exporter": "python",
   "pygments_lexer": "ipython3",
   "version": "3.7.12"
  }
 },
 "nbformat": 4,
 "nbformat_minor": 1
}
