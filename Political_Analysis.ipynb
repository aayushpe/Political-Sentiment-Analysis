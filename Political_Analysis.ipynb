{
  "nbformat": 4,
  "nbformat_minor": 0,
  "metadata": {
    "colab": {
      "provenance": []
    },
    "kernelspec": {
      "name": "python3",
      "display_name": "Python 3"
    },
    "language_info": {
      "name": "python"
    }
  },
  "cells": [
    {
      "cell_type": "code",
      "source": [
        "import re\n",
        "import pandas as pd\n",
        "import matplotlib.pyplot as plt\n",
        "import tensorflow as tf\n",
        "from tensorflow.keras.models import Sequential\n",
        "from tensorflow.keras.layers import Dense, Dropout\n",
        "from tensorflow.keras.preprocessing.text import Tokenizer\n",
        "from tensorflow.keras.preprocessing.sequence import pad_sequences\n",
        "from sklearn.model_selection import train_test_split\n",
        "import json\n",
        "\n",
        "# Tokenizer save point\n",
        "tk_save='/content/drive/MyDrive/Final Project 4375/tokenizer_config.json'\n",
        "# Load the dataset\n",
        "df = pd.read_csv(\"/content/drive/MyDrive/Final Project 4375/ExtractedTweets.csv\")"
      ],
      "metadata": {
        "id": "sKzZuh7-ZgMt"
      },
      "execution_count": 16,
      "outputs": []
    },
    {
      "cell_type": "markdown",
      "source": [
        "PREPROCESSING AND SETTING UP THE DATA"
      ],
      "metadata": {
        "id": "l19ffTupeiz_"
      }
    },
    {
      "cell_type": "code",
      "execution_count": 17,
      "metadata": {
        "id": "hwi--65GYxRh"
      },
      "outputs": [],
      "source": [
        "def preprocess_tweet(tweet):\n",
        "    tweet = re.sub(r'\\bRT\\b', '', tweet)  # Remove 'RT' (retweet symbol)\n",
        "    tweet = re.sub(r'@\\w+', '', tweet)    # Remove '@' mentions\n",
        "    tweet = re.sub(r'http\\S+|www\\S+', '', tweet)  # Remove URLs\n",
        "    return tweet.strip()\n",
        "\n",
        "# Apply preprocessing to the 'Tweet' column of dataset\n",
        "df['Tweet'] = df['Tweet'].apply(preprocess_tweet)\n",
        "\n",
        "# Tokenize the text\n",
        "tokenizer = Tokenizer(num_words=20000) # Num of individual words the model is taking into account\n",
        "tokenizer.fit_on_texts(df['Tweet'])\n",
        "X = tokenizer.texts_to_sequences(df['Tweet'])\n",
        "X = pad_sequences(X, maxlen=100)\n",
        "\n",
        "# Save the tokenizer configuration\n",
        "tokenizer_config = tokenizer.to_json()\n",
        "with open(tk_save, 'w', encoding='utf-8') as f:\n",
        "    f.write(tokenizer_config)\n",
        "y = pd.get_dummies(df['Party'])\n",
        "\n",
        "# Split the data into training and testing sets\n",
        "X_train, X_test, y_train, y_test = train_test_split(X, y, test_size=0.2, random_state=42)\n"
      ]
    },
    {
      "cell_type": "markdown",
      "source": [
        "NEURAL NETWORK AND TRAINING"
      ],
      "metadata": {
        "id": "DskBAPcfepB2"
      }
    },
    {
      "cell_type": "code",
      "source": [
        "# Build the neural network model\n",
        "model = Sequential([\n",
        "    tf.keras.layers.Embedding(input_dim=20000, output_dim=128, input_length=100),\n",
        "    tf.keras.layers.Flatten(),\n",
        "    tf.keras.layers.Dense(128, activation='relu'),\n",
        "    tf.keras.layers.Dropout(0.5),\n",
        "    tf.keras.layers.Dense(64, activation='relu'),\n",
        "    tf.keras.layers.Dropout(0.5),\n",
        "    tf.keras.layers.Dense(2, activation='softmax')\n",
        "])\n",
        "\n",
        "# Compile the model\n",
        "model.compile(optimizer='adam', loss='categorical_crossentropy', metrics=['accuracy'])\n",
        "\n",
        "# Train the model\n",
        "history = model.fit(X_train, y_train, epochs=10, batch_size=32, validation_split=0.2, verbose=1)\n",
        "\n",
        "# Evaluate the model on the test set\n",
        "test_loss, test_accuracy = model.evaluate(X_test, y_test, verbose=0)\n",
        "print(f\"Test Accuracy: {test_accuracy}\")"
      ],
      "metadata": {
        "colab": {
          "base_uri": "https://localhost:8080/"
        },
        "id": "eDN8Uo8lZs9i",
        "outputId": "607e8a25-ff1f-456a-8729-7d0684ac5ded"
      },
      "execution_count": 14,
      "outputs": [
        {
          "output_type": "stream",
          "name": "stdout",
          "text": [
            "Epoch 1/10\n",
            "1730/1730 [==============================] - 93s 54ms/step - loss: 0.5920 - accuracy: 0.6614 - val_loss: 0.5083 - val_accuracy: 0.7376\n",
            "Epoch 2/10\n",
            "1730/1730 [==============================] - 87s 50ms/step - loss: 0.3921 - accuracy: 0.8182 - val_loss: 0.5156 - val_accuracy: 0.7381\n",
            "Epoch 3/10\n",
            "1730/1730 [==============================] - 92s 53ms/step - loss: 0.2011 - accuracy: 0.9148 - val_loss: 0.7753 - val_accuracy: 0.7284\n",
            "Epoch 4/10\n",
            "1730/1730 [==============================] - 91s 53ms/step - loss: 0.1035 - accuracy: 0.9575 - val_loss: 1.0065 - val_accuracy: 0.7168\n",
            "Epoch 5/10\n",
            "1730/1730 [==============================] - 97s 56ms/step - loss: 0.0688 - accuracy: 0.9727 - val_loss: 1.4564 - val_accuracy: 0.7156\n",
            "Epoch 6/10\n",
            "1730/1730 [==============================] - 106s 61ms/step - loss: 0.0488 - accuracy: 0.9799 - val_loss: 1.4151 - val_accuracy: 0.7138\n",
            "Epoch 7/10\n",
            "1730/1730 [==============================] - 100s 58ms/step - loss: 0.0410 - accuracy: 0.9835 - val_loss: 2.0350 - val_accuracy: 0.7103\n",
            "Epoch 8/10\n",
            "1730/1730 [==============================] - 100s 58ms/step - loss: 0.0344 - accuracy: 0.9858 - val_loss: 2.0894 - val_accuracy: 0.7109\n",
            "Epoch 9/10\n",
            "1730/1730 [==============================] - 101s 59ms/step - loss: 0.0326 - accuracy: 0.9864 - val_loss: 2.6471 - val_accuracy: 0.7137\n",
            "Epoch 10/10\n",
            "1730/1730 [==============================] - 102s 59ms/step - loss: 0.0260 - accuracy: 0.9883 - val_loss: 2.3679 - val_accuracy: 0.7079\n",
            "Test Accuracy: 0.7092297077178955\n"
          ]
        }
      ]
    },
    {
      "cell_type": "markdown",
      "source": [
        "GRAPHING"
      ],
      "metadata": {
        "id": "r3T3iRsfezWp"
      }
    },
    {
      "cell_type": "code",
      "source": [
        "# Plot training accuracy and validation accuracy\n",
        "plt.plot(history.history['accuracy'], label='Training Accuracy')\n",
        "plt.plot(history.history['val_accuracy'], label='Validation Accuracy')\n",
        "plt.title('Training and Validation Accuracy')\n",
        "plt.xlabel('Epoch')\n",
        "plt.ylabel('Accuracy')\n",
        "plt.legend()\n",
        "plt.show()\n"
      ],
      "metadata": {
        "colab": {
          "base_uri": "https://localhost:8080/",
          "height": 472
        },
        "id": "TEQkRwrMZsrz",
        "outputId": "a117d111-7c8f-4f69-d216-9af60d799402"
      },
      "execution_count": 15,
      "outputs": [
        {
          "output_type": "display_data",
          "data": {
            "text/plain": [
              "<Figure size 640x480 with 1 Axes>"
            ],
            "image/png": "[encoded data removed]"
          },
          "metadata": {}
        }
      ]
    },
    {
      "cell_type": "markdown",
      "source": [
        "TESTING"
      ],
      "metadata": {
        "id": "35kD0wTbY5Wy"
      }
    },
    {
      "cell_type": "code",
      "source": [
        "\n",
        "# Function to preprocess the input text\n",
        "def preprocess_text(text):\n",
        "    # Convert text to lowercase\n",
        "    text = text.lower()\n",
        "    return text\n",
        "\n",
        "# Load the tokenizer used for training\n",
        "tokenizer = Tokenizer(num_words=20000)\n",
        "\n",
        "# Load tokenizer word index\n",
        "with open(tk_save, 'r') as f:\n",
        "    word_index = json.load(f)\n",
        "    tokenizer.word_index = word_index\n",
        "\n",
        "def predict_party(text):\n",
        "    # Preprocess the input text\n",
        "    processed_text = preprocess_text(text)\n",
        "\n",
        "    # Tokenize and pad the processed text\n",
        "    sequences = tokenizer.texts_to_sequences([processed_text])\n",
        "    padded_sequences = pad_sequences(sequences, maxlen=100)\n",
        "\n",
        "    # Predict the party lean\n",
        "    party_prediction = model.predict(padded_sequences)[0]\n",
        "\n",
        "    # Get the predicted class index\n",
        "    predicted_class_index = np.argmax(party_prediction)\n",
        "\n",
        "    # Get the probability of the predicted class\n",
        "    predicted_probability = party_prediction[predicted_class_index]\n",
        "\n",
        "    # Calculate the confidence percentage\n",
        "    confidence_percentage = predicted_probability * 100\n",
        "\n",
        "\n",
        "    # Map the predicted class index to party lean\n",
        "    if predicted_class_index == 0:\n",
        "        return \"Democrat\", confidence_percentage\n",
        "    else:\n",
        "        return \"Republican\", confidence_percentage\n",
        "\n",
        "\n",
        "# User input\n",
        "user_text = input(\"Enter the text to predict party lean: \")\n",
        "\n",
        "# Predict party lean\n",
        "predicted_party, party_percent = predict_party(user_text)\n",
        "print(\"Predicted Party Lean:\", predicted_party)\n",
        "if party_percent is not None:\n",
        "    print(\"Confidence Percentage:\", \"{:.2f}%\".format(party_percent))\n"
      ],
      "metadata": {
        "id": "cYcHMfgwY2Wr"
      },
      "execution_count": null,
      "outputs": []
    }
  ]
}