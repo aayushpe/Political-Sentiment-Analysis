{
 "cells": [
  {
   "cell_type": "markdown",
   "metadata": {
    "id": "6Z5uV0ZuqpJN"
   },
   "source": [
    "# Instantiate BERT model"
   ]
  },
  {
   "cell_type": "code",
   "execution_count": 1,
   "metadata": {
    "colab": {
     "base_uri": "https://localhost:8080/"
    },
    "id": "23TOba33L4qf",
    "outputId": "fda37e6e-3578-4fe6-b74a-889ef0610daa"
   },
   "outputs": [
    {
     "name": "stdout",
     "output_type": "stream",
     "text": [
      "Sun Apr 21 15:30:22 2024       \n",
      "+-----------------------------------------------------------------------------------------+\n",
      "| NVIDIA-SMI 551.78                 Driver Version: 551.78         CUDA Version: 12.4     |\n",
      "|-----------------------------------------+------------------------+----------------------+\n",
      "| GPU  Name                     TCC/WDDM  | Bus-Id          Disp.A | Volatile Uncorr. ECC |\n",
      "| Fan  Temp   Perf          Pwr:Usage/Cap |           Memory-Usage | GPU-Util  Compute M. |\n",
      "|                                         |                        |               MIG M. |\n",
      "|=========================================+========================+======================|\n",
      "|   0  Quadro RTX 5000              WDDM  |   00000000:01:00.0  On |                  N/A |\n",
      "| N/A   54C    P8             18W /   50W |     787MiB /  16384MiB |     16%      Default |\n",
      "|                                         |                        |                  N/A |\n",
      "+-----------------------------------------+------------------------+----------------------+\n",
      "                                                                                         \n",
      "+-----------------------------------------------------------------------------------------+\n",
      "| Processes:                                                                              |\n",
      "|  GPU   GI   CI        PID   Type   Process name                              GPU Memory |\n",
      "|        ID   ID                                                               Usage      |\n",
      "|=========================================================================================|\n",
      "|    0   N/A  N/A      3980    C+G   ...oogle\\Chrome\\Application\\chrome.exe      N/A      |\n",
      "|    0   N/A  N/A      9096    C+G   C:\\Windows\\explorer.exe                     N/A      |\n",
      "|    0   N/A  N/A      9136    C+G   ...t.LockApp_cw5n1h2txyewy\\LockApp.exe      N/A      |\n",
      "|    0   N/A  N/A     14572    C+G   ...nt.CBS_cw5n1h2txyewy\\SearchHost.exe      N/A      |\n",
      "|    0   N/A  N/A     14624    C+G   ...2txyewy\\StartMenuExperienceHost.exe      N/A      |\n",
      "|    0   N/A  N/A     16380    C+G   ...ns\\Software\\Current\\LogiOverlay.exe      N/A      |\n",
      "|    0   N/A  N/A     16512    C+G   ...on\\123.0.2420.97\\msedgewebview2.exe      N/A      |\n",
      "|    0   N/A  N/A     16532    C+G   ...cks-services\\BlueStacksServices.exe      N/A      |\n",
      "|    0   N/A  N/A     17592    C+G   ...inaries\\Win64\\EpicGamesLauncher.exe      N/A      |\n",
      "|    0   N/A  N/A     17740    C+G   ...CBS_cw5n1h2txyewy\\TextInputHost.exe      N/A      |\n",
      "|    0   N/A  N/A     19792    C+G   ...on\\123.0.2420.65\\msedgewebview2.exe      N/A      |\n",
      "|    0   N/A  N/A     19900    C+G   ...1.0_x64__8wekyb3d8bbwe\\Video.UI.exe      N/A      |\n",
      "|    0   N/A  N/A     20760    C+G   ...al\\Discord\\app-1.0.9041\\Discord.exe      N/A      |\n",
      "|    0   N/A  N/A     21164    C+G   ...5911_x64__8wekyb3d8bbwe\\msteams.exe      N/A      |\n",
      "|    0   N/A  N/A     21172    C+G   ...500_x64__8wekyb3d8bbwe\\ms-teams.exe      N/A      |\n",
      "|    0   N/A  N/A     22144    C+G   ...crosoft\\Edge\\Application\\msedge.exe      N/A      |\n",
      "|    0   N/A  N/A     22352    C+G   ...\\cef\\cef.win7x64\\steamwebhelper.exe      N/A      |\n",
      "|    0   N/A  N/A     22388    C+G   ...ne\\Binaries\\Win64\\EpicWebHelper.exe      N/A      |\n",
      "|    0   N/A  N/A     23676    C+G   ...B\\system_tray\\lghub_system_tray.exe      N/A      |\n",
      "|    0   N/A  N/A     24884    C+G   ...ekyb3d8bbwe\\PhoneExperienceHost.exe      N/A      |\n",
      "|    0   N/A  N/A     26188    C+G   ...AppData\\Roaming\\Spotify\\Spotify.exe      N/A      |\n",
      "|    0   N/A  N/A     27816    C+G   ...les\\Microsoft OneDrive\\OneDrive.exe      N/A      |\n",
      "|    0   N/A  N/A     28232    C+G   ...al\\Programs\\Messenger\\Messenger.exe      N/A      |\n",
      "|    0   N/A  N/A     37524    C+G   ...5n1h2txyewy\\ShellExperienceHost.exe      N/A      |\n",
      "+-----------------------------------------------------------------------------------------+\n"
     ]
    }
   ],
   "source": [
    "gpu_info = !nvidia-smi\n",
    "gpu_info = '\\n'.join(gpu_info)\n",
    "if gpu_info.find('failed') >= 0:\n",
    "  print('Not connected to a GPU')\n",
    "else:\n",
    "  print(gpu_info)"
   ]
  },
  {
   "cell_type": "code",
   "execution_count": 1,
   "metadata": {
    "id": "ARIriYjVgw2I"
   },
   "outputs": [],
   "source": [
    "# BERT reference: https://www.kaggle.com/models/tensorflow/bert\n",
    "# !pip install tensorflow_hub tensorflow_text -> run if needed\n",
    "import tensorflow as tf\n",
    "import tensorflow_hub as hub\n",
    "import tensorflow_text as text\n",
    "import pandas as pd\n",
    "from sklearn.model_selection import train_test_split\n",
    "from tensorflow.keras.utils import to_categorical\n",
    "\n",
    "import numpy as np\n",
    "from sklearn.metrics import confusion_matrix\n",
    "import seaborn as sns\n",
    "import matplotlib.pyplot as plt"
   ]
  },
  {
   "cell_type": "code",
   "execution_count": 2,
   "metadata": {
    "id": "a9aYyNB-kbhc"
   },
   "outputs": [],
   "source": [
    "preprocess_url = 'https://tfhub.dev/tensorflow/bert_en_uncased_preprocess/3'\n",
    "encoder_url = 'https://tfhub.dev/tensorflow/bert_en_uncased_L-12_H-768_A-12/4'"
   ]
  },
  {
   "cell_type": "code",
   "execution_count": 3,
   "metadata": {
    "id": "RmrmXvrRlHs5"
   },
   "outputs": [],
   "source": [
    "# Instatiate bert preprocessor\n",
    "bert_preprocessor = hub.KerasLayer(preprocess_url)"
   ]
  },
  {
   "cell_type": "markdown",
   "metadata": {
    "id": "l1fSBG0aqwLj"
   },
   "source": [
    "# Preprocess the Text"
   ]
  },
  {
   "cell_type": "code",
   "execution_count": 4,
   "metadata": {
    "colab": {
     "base_uri": "https://localhost:8080/"
    },
    "id": "P2xkMjshnJPd",
    "outputId": "4da1d8ff-a864-45e4-fea5-7558db013bf8"
   },
   "outputs": [
    {
     "name": "stdout",
     "output_type": "stream",
     "text": [
      "dict_keys(['input_type_ids', 'input_word_ids', 'input_mask'])\n"
     ]
    }
   ],
   "source": [
    "# Create text\n",
    "test_text = ['Hello, nice to meet you', 'What are you doing?']\n",
    "\n",
    "# Preprocess the text\n",
    "preprocessed_text = bert_preprocessor(test_text)\n",
    "\n",
    "# Keys returned from the preprocessed text\n",
    "print(preprocessed_text.keys())"
   ]
  },
  {
   "cell_type": "code",
   "execution_count": 5,
   "metadata": {
    "colab": {
     "base_uri": "https://localhost:8080/"
    },
    "id": "7Be_rzqdn4t5",
    "outputId": "42633bf1-6ce6-45c1-cc6a-b6efc7f5e86b"
   },
   "outputs": [
    {
     "name": "stdout",
     "output_type": "stream",
     "text": [
      "tf.Tensor(\n",
      "[[ 101 7592 1010 3835 2000 3113 2017  102    0    0    0    0    0    0\n",
      "     0    0    0    0    0    0    0    0    0    0    0    0    0    0\n",
      "     0    0    0    0    0    0    0    0    0    0    0    0    0    0\n",
      "     0    0    0    0    0    0    0    0    0    0    0    0    0    0\n",
      "     0    0    0    0    0    0    0    0    0    0    0    0    0    0\n",
      "     0    0    0    0    0    0    0    0    0    0    0    0    0    0\n",
      "     0    0    0    0    0    0    0    0    0    0    0    0    0    0\n",
      "     0    0    0    0    0    0    0    0    0    0    0    0    0    0\n",
      "     0    0    0    0    0    0    0    0    0    0    0    0    0    0\n",
      "     0    0]\n",
      " [ 101 2054 2024 2017 2725 1029  102    0    0    0    0    0    0    0\n",
      "     0    0    0    0    0    0    0    0    0    0    0    0    0    0\n",
      "     0    0    0    0    0    0    0    0    0    0    0    0    0    0\n",
      "     0    0    0    0    0    0    0    0    0    0    0    0    0    0\n",
      "     0    0    0    0    0    0    0    0    0    0    0    0    0    0\n",
      "     0    0    0    0    0    0    0    0    0    0    0    0    0    0\n",
      "     0    0    0    0    0    0    0    0    0    0    0    0    0    0\n",
      "     0    0    0    0    0    0    0    0    0    0    0    0    0    0\n",
      "     0    0    0    0    0    0    0    0    0    0    0    0    0    0\n",
      "     0    0]], shape=(2, 128), dtype=int32)\n"
     ]
    }
   ],
   "source": [
    "# Shows the word ids for each word\n",
    "print(preprocessed_text['input_word_ids'])"
   ]
  },
  {
   "cell_type": "markdown",
   "metadata": {
    "id": "teG0e1fAq2MI"
   },
   "source": [
    "# Convert the text into its word embeddings"
   ]
  },
  {
   "cell_type": "code",
   "execution_count": 6,
   "metadata": {
    "colab": {
     "base_uri": "https://localhost:8080/"
    },
    "id": "TchIzCOVoZSm",
    "outputId": "cb1ee9c8-1335-43e7-db5b-118d26be5b18"
   },
   "outputs": [
    {
     "name": "stdout",
     "output_type": "stream",
     "text": [
      "dict_keys(['encoder_outputs', 'sequence_output', 'pooled_output', 'default'])\n"
     ]
    }
   ],
   "source": [
    "# Instatiate the Bert encoder to get the word embeddings\n",
    "bert_model = hub.KerasLayer(encoder_url)\n",
    "\n",
    "# Get the word embeddings from text defined earlier\n",
    "word_embeddings = bert_model(preprocessed_text)\n",
    "\n",
    "# View the word embeddings' keys\n",
    "print(word_embeddings.keys())"
   ]
  },
  {
   "cell_type": "code",
   "execution_count": 7,
   "metadata": {
    "colab": {
     "base_uri": "https://localhost:8080/"
    },
    "id": "r6VpmuabpaQb",
    "outputId": "445785d9-b2fc-4d0c-f18e-e8d4add259e9"
   },
   "outputs": [
    {
     "data": {
      "text/plain": [
       "<tf.Tensor: shape=(2, 768), dtype=float32, numpy=\n",
       "array([[-0.81530607, -0.35409263, -0.69899064, ..., -0.5374823 ,\n",
       "        -0.6587062 ,  0.8210166 ],\n",
       "       [-0.9474851 , -0.4375451 , -0.942899  , ..., -0.7329442 ,\n",
       "        -0.7414421 ,  0.96138775]], dtype=float32)>"
      ]
     },
     "execution_count": 7,
     "metadata": {},
     "output_type": "execute_result"
    }
   ],
   "source": [
    "# Show the embeddings for both scentences in the text\n",
    "word_embeddings['pooled_output']"
   ]
  },
  {
   "cell_type": "markdown",
   "metadata": {
    "id": "CZl1UlVfqHUG"
   },
   "source": [
    "# Now that the sentences have been coverted to embeddings, it can be used in a neural network for different applications\n",
    "\n"
   ]
  },
  {
   "cell_type": "markdown",
   "metadata": {
    "id": "8WjYfHu7r3Oe"
   },
   "source": [
    "Once we Have our political sentiment data, we can recreate the steps below in order to train our model.\n",
    "\n",
    "For now, I tested it on a dataset for spam emails. This will be a simple neural network with a final softmax layer and an output of 2 for binary classification. When we are working with our political sentiment analysis data, we would need more (left leaning, right leaning, etc..)"
   ]
  },
  {
   "cell_type": "markdown",
   "metadata": {
    "id": "U2ac4uyg6UDg"
   },
   "source": [
    "# Process Data"
   ]
  },
  {
   "cell_type": "code",
   "execution_count": 8,
   "metadata": {
    "colab": {
     "base_uri": "https://localhost:8080/",
     "height": 206
    },
    "id": "zsYA5DkaqQcr",
    "outputId": "0b3ae409-9481-436e-d7aa-7439efda1ee1"
   },
   "outputs": [
    {
     "data": {
      "text/html": [
       "<div>\n",
       "<style scoped>\n",
       "    .dataframe tbody tr th:only-of-type {\n",
       "        vertical-align: middle;\n",
       "    }\n",
       "\n",
       "    .dataframe tbody tr th {\n",
       "        vertical-align: top;\n",
       "    }\n",
       "\n",
       "    .dataframe thead th {\n",
       "        text-align: right;\n",
       "    }\n",
       "</style>\n",
       "<table border=\"1\" class=\"dataframe\">\n",
       "  <thead>\n",
       "    <tr style=\"text-align: right;\">\n",
       "      <th></th>\n",
       "      <th>v1</th>\n",
       "      <th>v2</th>\n",
       "      <th>Unnamed: 2</th>\n",
       "      <th>Unnamed: 3</th>\n",
       "      <th>Unnamed: 4</th>\n",
       "    </tr>\n",
       "  </thead>\n",
       "  <tbody>\n",
       "    <tr>\n",
       "      <th>0</th>\n",
       "      <td>ham</td>\n",
       "      <td>Go until jurong point, crazy.. Available only ...</td>\n",
       "      <td>NaN</td>\n",
       "      <td>NaN</td>\n",
       "      <td>NaN</td>\n",
       "    </tr>\n",
       "    <tr>\n",
       "      <th>1</th>\n",
       "      <td>ham</td>\n",
       "      <td>Ok lar... Joking wif u oni...</td>\n",
       "      <td>NaN</td>\n",
       "      <td>NaN</td>\n",
       "      <td>NaN</td>\n",
       "    </tr>\n",
       "    <tr>\n",
       "      <th>2</th>\n",
       "      <td>spam</td>\n",
       "      <td>Free entry in 2 a wkly comp to win FA Cup fina...</td>\n",
       "      <td>NaN</td>\n",
       "      <td>NaN</td>\n",
       "      <td>NaN</td>\n",
       "    </tr>\n",
       "    <tr>\n",
       "      <th>3</th>\n",
       "      <td>ham</td>\n",
       "      <td>U dun say so early hor... U c already then say...</td>\n",
       "      <td>NaN</td>\n",
       "      <td>NaN</td>\n",
       "      <td>NaN</td>\n",
       "    </tr>\n",
       "    <tr>\n",
       "      <th>4</th>\n",
       "      <td>ham</td>\n",
       "      <td>Nah I don't think he goes to usf, he lives aro...</td>\n",
       "      <td>NaN</td>\n",
       "      <td>NaN</td>\n",
       "      <td>NaN</td>\n",
       "    </tr>\n",
       "  </tbody>\n",
       "</table>\n",
       "</div>"
      ],
      "text/plain": [
       "     v1                                                 v2 Unnamed: 2  \\\n",
       "0   ham  Go until jurong point, crazy.. Available only ...        NaN   \n",
       "1   ham                      Ok lar... Joking wif u oni...        NaN   \n",
       "2  spam  Free entry in 2 a wkly comp to win FA Cup fina...        NaN   \n",
       "3   ham  U dun say so early hor... U c already then say...        NaN   \n",
       "4   ham  Nah I don't think he goes to usf, he lives aro...        NaN   \n",
       "\n",
       "  Unnamed: 3 Unnamed: 4  \n",
       "0        NaN        NaN  \n",
       "1        NaN        NaN  \n",
       "2        NaN        NaN  \n",
       "3        NaN        NaN  \n",
       "4        NaN        NaN  "
      ]
     },
     "execution_count": 8,
     "metadata": {},
     "output_type": "execute_result"
    }
   ],
   "source": [
    "# Read in file\n",
    "data = pd.read_csv('spam.csv', encoding='latin1')\n",
    "\n",
    "# Show some data\n",
    "data.head()"
   ]
  },
  {
   "cell_type": "code",
   "execution_count": 9,
   "metadata": {
    "colab": {
     "base_uri": "https://localhost:8080/",
     "height": 447
    },
    "id": "31Emn-jCt3av",
    "outputId": "db797097-19fe-4757-bc4e-9348028b6b98"
   },
   "outputs": [
    {
     "data": {
      "text/plain": [
       "<AxesSubplot:>"
      ]
     },
     "execution_count": 9,
     "metadata": {},
     "output_type": "execute_result"
    },
    {
     "data": {
      "image/png": "[encoded data removed]",
      "text/plain": [
       "<Figure size 640x480 with 1 Axes>"
      ]
     },
     "metadata": {},
     "output_type": "display_data"
    }
   ],
   "source": [
    "# Show data Imbalance\n",
    "data['v1'].hist()"
   ]
  },
  {
   "cell_type": "code",
   "execution_count": 10,
   "metadata": {
    "colab": {
     "base_uri": "https://localhost:8080/"
    },
    "id": "l294HifWwjHh",
    "outputId": "a0ecbc2e-353d-4483-f4ee-e9d54513d8a9"
   },
   "outputs": [
    {
     "data": {
      "text/plain": [
       "(747, 5)"
      ]
     },
     "execution_count": 10,
     "metadata": {},
     "output_type": "execute_result"
    }
   ],
   "source": [
    "# Seperate only spam data\n",
    "data_spam = data[data['v1'] == 'spam']\n",
    "data_spam.shape"
   ]
  },
  {
   "cell_type": "code",
   "execution_count": 11,
   "metadata": {
    "colab": {
     "base_uri": "https://localhost:8080/"
    },
    "id": "qm7a33K9xzHF",
    "outputId": "f3193c9b-7b23-4123-c5b7-22e82146708c"
   },
   "outputs": [
    {
     "data": {
      "text/plain": [
       "(4825, 5)"
      ]
     },
     "execution_count": 11,
     "metadata": {},
     "output_type": "execute_result"
    }
   ],
   "source": [
    "# Seperate only non-spam data\n",
    "data_ham = data[data['v1'] == 'ham']\n",
    "data_ham.shape"
   ]
  },
  {
   "cell_type": "code",
   "execution_count": 12,
   "metadata": {
    "colab": {
     "base_uri": "https://localhost:8080/"
    },
    "id": "9808k97tx5PY",
    "outputId": "e2c6eab2-2144-4eb7-e973-79ed25918023"
   },
   "outputs": [
    {
     "data": {
      "text/plain": [
       "(747, 5)"
      ]
     },
     "execution_count": 12,
     "metadata": {},
     "output_type": "execute_result"
    }
   ],
   "source": [
    "# Down sample non-spam data to avoid overfitting\n",
    "data_ham_downsampled = data_ham.sample(data_spam.shape[0])\n",
    "data_ham_downsampled.shape"
   ]
  },
  {
   "cell_type": "code",
   "execution_count": 13,
   "metadata": {
    "colab": {
     "base_uri": "https://localhost:8080/"
    },
    "id": "5u8pTl9gyV6C",
    "outputId": "6421196e-5c5e-419b-8c20-62a9dbf95db5"
   },
   "outputs": [
    {
     "data": {
      "text/plain": [
       "(1494, 5)"
      ]
     },
     "execution_count": 13,
     "metadata": {},
     "output_type": "execute_result"
    }
   ],
   "source": [
    "# Merge samples backtogether again\n",
    "final_data = pd.concat([data_spam, data_ham_downsampled])\n",
    "final_data.shape"
   ]
  },
  {
   "cell_type": "code",
   "execution_count": 14,
   "metadata": {
    "colab": {
     "base_uri": "https://localhost:8080/",
     "height": 517
    },
    "id": "aSc6rod7ylut",
    "outputId": "2ee513e8-71d6-48af-ca73-483ba9dcfbe9"
   },
   "outputs": [
    {
     "name": "stdout",
     "output_type": "stream",
     "text": [
      "spam    747\n",
      "ham     747\n",
      "Name: v1, dtype: int64\n"
     ]
    },
    {
     "data": {
      "text/plain": [
       "<AxesSubplot:>"
      ]
     },
     "execution_count": 14,
     "metadata": {},
     "output_type": "execute_result"
    },
    {
     "data": {
      "image/png": "[encoded data removed]",
      "text/plain": [
       "<Figure size 640x480 with 1 Axes>"
      ]
     },
     "metadata": {},
     "output_type": "display_data"
    }
   ],
   "source": [
    "# Check downsampled dataset\n",
    "print(final_data['v1'].value_counts())\n",
    "final_data['v1'].hist()"
   ]
  },
  {
   "cell_type": "code",
   "execution_count": 15,
   "metadata": {
    "colab": {
     "base_uri": "https://localhost:8080/",
     "height": 224
    },
    "id": "kuNvYW_cy9d8",
    "outputId": "7b3639c9-2ecb-468f-c744-ef502d1a925b"
   },
   "outputs": [
    {
     "name": "stdout",
     "output_type": "stream",
     "text": [
      "Shape of final data: (1494, 5)\n"
     ]
    },
    {
     "data": {
      "text/html": [
       "<div>\n",
       "<style scoped>\n",
       "    .dataframe tbody tr th:only-of-type {\n",
       "        vertical-align: middle;\n",
       "    }\n",
       "\n",
       "    .dataframe tbody tr th {\n",
       "        vertical-align: top;\n",
       "    }\n",
       "\n",
       "    .dataframe thead th {\n",
       "        text-align: right;\n",
       "    }\n",
       "</style>\n",
       "<table border=\"1\" class=\"dataframe\">\n",
       "  <thead>\n",
       "    <tr style=\"text-align: right;\">\n",
       "      <th></th>\n",
       "      <th>v1</th>\n",
       "      <th>v2</th>\n",
       "      <th>Unnamed: 2</th>\n",
       "      <th>Unnamed: 3</th>\n",
       "      <th>Unnamed: 4</th>\n",
       "    </tr>\n",
       "  </thead>\n",
       "  <tbody>\n",
       "    <tr>\n",
       "      <th>3149</th>\n",
       "      <td>ham</td>\n",
       "      <td>Yo! Howz u? girls never rang after india. L</td>\n",
       "      <td>NaN</td>\n",
       "      <td>NaN</td>\n",
       "      <td>NaN</td>\n",
       "    </tr>\n",
       "    <tr>\n",
       "      <th>4293</th>\n",
       "      <td>spam</td>\n",
       "      <td>Kit Strip - you have been billed 150p. Netcoll...</td>\n",
       "      <td>NaN</td>\n",
       "      <td>NaN</td>\n",
       "      <td>NaN</td>\n",
       "    </tr>\n",
       "    <tr>\n",
       "      <th>5229</th>\n",
       "      <td>ham</td>\n",
       "      <td>It means u could not keep ur words.</td>\n",
       "      <td>NaN</td>\n",
       "      <td>NaN</td>\n",
       "      <td>NaN</td>\n",
       "    </tr>\n",
       "    <tr>\n",
       "      <th>4152</th>\n",
       "      <td>spam</td>\n",
       "      <td>URGENT!! Your 4* Costa Del Sol Holiday or å£50...</td>\n",
       "      <td>NaN</td>\n",
       "      <td>NaN</td>\n",
       "      <td>NaN</td>\n",
       "    </tr>\n",
       "    <tr>\n",
       "      <th>720</th>\n",
       "      <td>ham</td>\n",
       "      <td>Oh is it? Send me the address</td>\n",
       "      <td>NaN</td>\n",
       "      <td>NaN</td>\n",
       "      <td>NaN</td>\n",
       "    </tr>\n",
       "  </tbody>\n",
       "</table>\n",
       "</div>"
      ],
      "text/plain": [
       "        v1                                                 v2 Unnamed: 2  \\\n",
       "3149   ham        Yo! Howz u? girls never rang after india. L        NaN   \n",
       "4293  spam  Kit Strip - you have been billed 150p. Netcoll...        NaN   \n",
       "5229   ham                It means u could not keep ur words.        NaN   \n",
       "4152  spam  URGENT!! Your 4* Costa Del Sol Holiday or å£50...        NaN   \n",
       "720    ham                      Oh is it? Send me the address        NaN   \n",
       "\n",
       "     Unnamed: 3 Unnamed: 4  \n",
       "3149        NaN        NaN  \n",
       "4293        NaN        NaN  \n",
       "5229        NaN        NaN  \n",
       "4152        NaN        NaN  \n",
       "720         NaN        NaN  "
      ]
     },
     "execution_count": 15,
     "metadata": {},
     "output_type": "execute_result"
    }
   ],
   "source": [
    "print('Shape of final data: ' + str(final_data.shape))\n",
    "final_data.sample(5)"
   ]
  },
  {
   "cell_type": "code",
   "execution_count": 16,
   "metadata": {
    "colab": {
     "base_uri": "https://localhost:8080/",
     "height": 206
    },
    "id": "kV2MjAtx05-Q",
    "outputId": "39f3ec19-922f-42ae-bd9e-a7b6eeee05ff"
   },
   "outputs": [
    {
     "data": {
      "text/html": [
       "<div>\n",
       "<style scoped>\n",
       "    .dataframe tbody tr th:only-of-type {\n",
       "        vertical-align: middle;\n",
       "    }\n",
       "\n",
       "    .dataframe tbody tr th {\n",
       "        vertical-align: top;\n",
       "    }\n",
       "\n",
       "    .dataframe thead th {\n",
       "        text-align: right;\n",
       "    }\n",
       "</style>\n",
       "<table border=\"1\" class=\"dataframe\">\n",
       "  <thead>\n",
       "    <tr style=\"text-align: right;\">\n",
       "      <th></th>\n",
       "      <th>v1</th>\n",
       "      <th>v2</th>\n",
       "      <th>Unnamed: 2</th>\n",
       "      <th>Unnamed: 3</th>\n",
       "      <th>Unnamed: 4</th>\n",
       "      <th>spam</th>\n",
       "    </tr>\n",
       "  </thead>\n",
       "  <tbody>\n",
       "    <tr>\n",
       "      <th>4784</th>\n",
       "      <td>spam</td>\n",
       "      <td>Urgent -call 09066649731from Landline. Your co...</td>\n",
       "      <td>NaN</td>\n",
       "      <td>NaN</td>\n",
       "      <td>NaN</td>\n",
       "      <td>1</td>\n",
       "    </tr>\n",
       "    <tr>\n",
       "      <th>2648</th>\n",
       "      <td>ham</td>\n",
       "      <td>Hi, can i please get a  &amp;lt;#&amp;gt;  dollar loan...</td>\n",
       "      <td>NaN</td>\n",
       "      <td>NaN</td>\n",
       "      <td>NaN</td>\n",
       "      <td>0</td>\n",
       "    </tr>\n",
       "    <tr>\n",
       "      <th>1632</th>\n",
       "      <td>ham</td>\n",
       "      <td>Hello my little party animal! I just thought I...</td>\n",
       "      <td>NaN</td>\n",
       "      <td>NaN</td>\n",
       "      <td>NaN</td>\n",
       "      <td>0</td>\n",
       "    </tr>\n",
       "    <tr>\n",
       "      <th>3130</th>\n",
       "      <td>spam</td>\n",
       "      <td>LookAtMe!: Thanks for your purchase of a video...</td>\n",
       "      <td>NaN</td>\n",
       "      <td>NaN</td>\n",
       "      <td>NaN</td>\n",
       "      <td>1</td>\n",
       "    </tr>\n",
       "    <tr>\n",
       "      <th>5427</th>\n",
       "      <td>spam</td>\n",
       "      <td>Santa Calling! Would your little ones like a c...</td>\n",
       "      <td>NaN</td>\n",
       "      <td>NaN</td>\n",
       "      <td>NaN</td>\n",
       "      <td>1</td>\n",
       "    </tr>\n",
       "  </tbody>\n",
       "</table>\n",
       "</div>"
      ],
      "text/plain": [
       "        v1                                                 v2 Unnamed: 2  \\\n",
       "4784  spam  Urgent -call 09066649731from Landline. Your co...        NaN   \n",
       "2648   ham  Hi, can i please get a  &lt;#&gt;  dollar loan...        NaN   \n",
       "1632   ham  Hello my little party animal! I just thought I...        NaN   \n",
       "3130  spam  LookAtMe!: Thanks for your purchase of a video...        NaN   \n",
       "5427  spam  Santa Calling! Would your little ones like a c...        NaN   \n",
       "\n",
       "     Unnamed: 3 Unnamed: 4  spam  \n",
       "4784        NaN        NaN     1  \n",
       "2648        NaN        NaN     0  \n",
       "1632        NaN        NaN     0  \n",
       "3130        NaN        NaN     1  \n",
       "5427        NaN        NaN     1  "
      ]
     },
     "execution_count": 16,
     "metadata": {},
     "output_type": "execute_result"
    }
   ],
   "source": [
    "# Convert spam and ham to 1s and 0s and store it in a new column named spam\n",
    "final_data['spam'] = final_data['v1'].apply(lambda x: 1 if x=='spam' else 0)\n",
    "final_data.sample(5)"
   ]
  },
  {
   "cell_type": "markdown",
   "metadata": {
    "id": "ZgiYIuln6YJt"
   },
   "source": [
    "# Get word embeddings for data"
   ]
  },
  {
   "cell_type": "code",
   "execution_count": 17,
   "metadata": {
    "id": "il2uR_iC2ssN"
   },
   "outputs": [],
   "source": [
    "# Make training and testing split with data\n",
    "X_train, X_test, y_train, y_test = train_test_split(final_data.drop(['v1', 'spam', 'Unnamed: 3', 'Unnamed: 4', 'Unnamed: 2'], axis=1),\n",
    "                                                    final_data['spam'],\n",
    "                                                    stratify=final_data['spam'])\n",
    "\n",
    "# final_data.drop(['v1', 'spam', 'Unnamed: 3', 'Unnamed: 4', 'Unnamed: 2'], axis=1 takes in only v2 column"
   ]
  },
  {
   "cell_type": "code",
   "execution_count": 18,
   "metadata": {
    "colab": {
     "base_uri": "https://localhost:8080/",
     "height": 363
    },
    "id": "ZBjwhd9e3cTC",
    "outputId": "11b59bec-042d-43b3-c8ca-1da37091ed98"
   },
   "outputs": [
    {
     "data": {
      "text/html": [
       "<div>\n",
       "<style scoped>\n",
       "    .dataframe tbody tr th:only-of-type {\n",
       "        vertical-align: middle;\n",
       "    }\n",
       "\n",
       "    .dataframe tbody tr th {\n",
       "        vertical-align: top;\n",
       "    }\n",
       "\n",
       "    .dataframe thead th {\n",
       "        text-align: right;\n",
       "    }\n",
       "</style>\n",
       "<table border=\"1\" class=\"dataframe\">\n",
       "  <thead>\n",
       "    <tr style=\"text-align: right;\">\n",
       "      <th></th>\n",
       "      <th>v2</th>\n",
       "    </tr>\n",
       "  </thead>\n",
       "  <tbody>\n",
       "    <tr>\n",
       "      <th>4478</th>\n",
       "      <td>Erutupalam thandiyachu</td>\n",
       "    </tr>\n",
       "    <tr>\n",
       "      <th>3495</th>\n",
       "      <td>Happy birthday... May u find ur prince charmin...</td>\n",
       "    </tr>\n",
       "    <tr>\n",
       "      <th>3418</th>\n",
       "      <td>Do you want a new Video phone? 600 anytime any...</td>\n",
       "    </tr>\n",
       "    <tr>\n",
       "      <th>4633</th>\n",
       "      <td>These won't do. Have to move on to morphine</td>\n",
       "    </tr>\n",
       "    <tr>\n",
       "      <th>4102</th>\n",
       "      <td>U have a secret admirer who is looking 2 make ...</td>\n",
       "    </tr>\n",
       "    <tr>\n",
       "      <th>5467</th>\n",
       "      <td>Get your garden ready for summer with a FREE s...</td>\n",
       "    </tr>\n",
       "    <tr>\n",
       "      <th>4515</th>\n",
       "      <td>Congrats! 2 mobile 3G Videophones R yours. cal...</td>\n",
       "    </tr>\n",
       "    <tr>\n",
       "      <th>2660</th>\n",
       "      <td>Want to finally have lunch today?</td>\n",
       "    </tr>\n",
       "    <tr>\n",
       "      <th>3988</th>\n",
       "      <td>Ok lor. Anyway i thk we cant get tickets now c...</td>\n",
       "    </tr>\n",
       "    <tr>\n",
       "      <th>1264</th>\n",
       "      <td>I will see in half an hour</td>\n",
       "    </tr>\n",
       "  </tbody>\n",
       "</table>\n",
       "</div>"
      ],
      "text/plain": [
       "                                                     v2\n",
       "4478                             Erutupalam thandiyachu\n",
       "3495  Happy birthday... May u find ur prince charmin...\n",
       "3418  Do you want a new Video phone? 600 anytime any...\n",
       "4633        These won't do. Have to move on to morphine\n",
       "4102  U have a secret admirer who is looking 2 make ...\n",
       "5467  Get your garden ready for summer with a FREE s...\n",
       "4515  Congrats! 2 mobile 3G Videophones R yours. cal...\n",
       "2660                  Want to finally have lunch today?\n",
       "3988  Ok lor. Anyway i thk we cant get tickets now c...\n",
       "1264                         I will see in half an hour"
      ]
     },
     "execution_count": 18,
     "metadata": {},
     "output_type": "execute_result"
    }
   ],
   "source": [
    "X_train.sample(10)"
   ]
  },
  {
   "cell_type": "code",
   "execution_count": 19,
   "metadata": {
    "colab": {
     "base_uri": "https://localhost:8080/"
    },
    "id": "jpy5SyPi4z4d",
    "outputId": "360a7267-47aa-4090-8380-33adc95e9ba9"
   },
   "outputs": [
    {
     "data": {
      "text/plain": [
       "<tf.Tensor: shape=(2, 768), dtype=float32, numpy=\n",
       "array([[-0.8806523 , -0.3831083 , -0.62446606, ..., -0.42110583,\n",
       "        -0.62964034,  0.8747804 ],\n",
       "       [-0.5140882 , -0.39360225, -0.8936088 , ..., -0.7950725 ,\n",
       "        -0.4616834 ,  0.63142467]], dtype=float32)>"
      ]
     },
     "execution_count": 19,
     "metadata": {},
     "output_type": "execute_result"
    }
   ],
   "source": [
    "# Defines a function to get the scentence embeddings for each entry\n",
    "def get_sentence_embedding(sentences):\n",
    "  # preprocess words\n",
    "  preprocessed_text = bert_preprocessor(sentences)\n",
    "\n",
    "  # get embedding vectors from the pooled_output key\n",
    "  return bert_model(preprocessed_text)['pooled_output']\n",
    "\n",
    "# Small scale driver to test function\n",
    "get_sentence_embedding([\n",
    "    'WINNER! As a valued network customer you hvae',\n",
    "    'Kit Strip - you have been billed 150p'\n",
    "])"
   ]
  },
  {
   "cell_type": "code",
   "execution_count": 45,
   "metadata": {
    "id": "DR0NEDidBm6l"
   },
   "outputs": [],
   "source": [
    "# Visualize getting embeddings for entire training set\n",
    "X_train_embeddings = get_sentence_embedding(X_train['v2'])\n",
    "\n",
    "# Get embeddings for testing set\n",
    "X_test_embeddings = get_sentence_embedding(X_test['v2'])"
   ]
  },
  {
   "cell_type": "code",
   "execution_count": 46,
   "metadata": {
    "colab": {
     "base_uri": "https://localhost:8080/"
    },
    "id": "3ci7py5xByQI",
    "outputId": "8322fec1-72b5-4851-aab7-19f0e8a92f12"
   },
   "outputs": [
    {
     "name": "stdout",
     "output_type": "stream",
     "text": [
      "Before(1120, 1)\n",
      "After(1120, 768)\n"
     ]
    }
   ],
   "source": [
    "# Before and after word embeddings\n",
    "print('Before' + str(X_train.shape))\n",
    "print('After' + str(X_train_embeddings.shape))"
   ]
  },
  {
   "cell_type": "code",
   "execution_count": 21,
   "metadata": {
    "id": "cxiADlp6L1Cd"
   },
   "outputs": [],
   "source": [
    "# Convert the y vectors for the softmax function\n",
    "y_train_one_hot = to_categorical(y_train, num_classes=2)\n",
    "y_test_one_hot = to_categorical(y_test, num_classes=2)"
   ]
  },
  {
   "cell_type": "markdown",
   "metadata": {
    "id": "pMpd5qBo72p0"
   },
   "source": [
    "# Create Neural Network\n"
   ]
  },
  {
   "cell_type": "code",
   "execution_count": 33,
   "metadata": {
    "id": "tTk1YYHq7bkS"
   },
   "outputs": [],
   "source": [
    "# Bert Layers for preprocessing and getting word embeddings\n",
    "text_input = tf.keras.layers.Input(shape=(), dtype=tf.string, name='text')\n",
    "preprocessed_text = bert_preprocessor(text_input)\n",
    "outputs = bert_model(preprocessed_text)\n",
    "\n",
    "# Neural network layers\n",
    "hiddenLayer = tf.keras.layers.Dense(50, name='hidden', activation='relu')(outputs['pooled_output'])\n",
    "dropoutLayer = tf.keras.layers.Dropout(0.1, name='drouput')(hiddenLayer)\n",
    "outputLayer = tf.keras.layers.Dense(2, activation='softmax', name='output') (dropoutLayer)\n",
    "\n",
    "# Final model\n",
    "model = tf.keras.Model(inputs=[text_input], outputs = [outputLayer])"
   ]
  },
  {
   "cell_type": "code",
   "execution_count": 34,
   "metadata": {
    "colab": {
     "base_uri": "https://localhost:8080/",
     "height": 238
    },
    "id": "sROWiuwrI4Jf",
    "outputId": "7e14965f-f3ed-41b0-91d0-f7e9771c0065"
   },
   "outputs": [
    {
     "name": "stdout",
     "output_type": "stream",
     "text": [
      "Model: \"model_2\"\n",
      "__________________________________________________________________________________________________\n",
      " Layer (type)                   Output Shape         Param #     Connected to                     \n",
      "==================================================================================================\n",
      " text (InputLayer)              [(None,)]            0           []                               \n",
      "                                                                                                  \n",
      " keras_layer (KerasLayer)       {'input_type_ids':   0           ['text[0][0]']                   \n",
      "                                (None, 128),                                                      \n",
      "                                 'input_word_ids':                                                \n",
      "                                (None, 128),                                                      \n",
      "                                 'input_mask': (Non                                               \n",
      "                                e, 128)}                                                          \n",
      "                                                                                                  \n",
      " keras_layer_1 (KerasLayer)     {'encoder_outputs':  109482241   ['keras_layer[3][0]',            \n",
      "                                 [(None, 128, 768),               'keras_layer[3][1]',            \n",
      "                                 (None, 128, 768),                'keras_layer[3][2]']            \n",
      "                                 (None, 128, 768),                                                \n",
      "                                 (None, 128, 768),                                                \n",
      "                                 (None, 128, 768),                                                \n",
      "                                 (None, 128, 768),                                                \n",
      "                                 (None, 128, 768),                                                \n",
      "                                 (None, 128, 768),                                                \n",
      "                                 (None, 128, 768),                                                \n",
      "                                 (None, 128, 768),                                                \n",
      "                                 (None, 128, 768),                                                \n",
      "                                 (None, 128, 768)],                                               \n",
      "                                 'sequence_output':                                               \n",
      "                                 (None, 128, 768),                                                \n",
      "                                 'pooled_output': (                                               \n",
      "                                None, 768),                                                       \n",
      "                                 'default': (None,                                                \n",
      "                                768)}                                                             \n",
      "                                                                                                  \n",
      " hidden (Dense)                 (None, 50)           38450       ['keras_layer_1[3][13]']         \n",
      "                                                                                                  \n",
      " drouput (Dropout)              (None, 50)           0           ['hidden[0][0]']                 \n",
      "                                                                                                  \n",
      " output (Dense)                 (None, 2)            102         ['drouput[0][0]']                \n",
      "                                                                                                  \n",
      "==================================================================================================\n",
      "Total params: 109,520,793\n",
      "Trainable params: 38,552\n",
      "Non-trainable params: 109,482,241\n",
      "__________________________________________________________________________________________________\n"
     ]
    }
   ],
   "source": [
    "# Get the model's summary\n",
    "model.summary()"
   ]
  },
  {
   "cell_type": "code",
   "execution_count": 35,
   "metadata": {
    "id": "J4dWnZ6yJXHP"
   },
   "outputs": [],
   "source": [
    "# Compile the model\n",
    "model.compile (\n",
    "    optimizer='adam',\n",
    "    loss='categorical_crossentropy',\n",
    "    metrics='accuracy'\n",
    ")"
   ]
  },
  {
   "cell_type": "code",
   "execution_count": 36,
   "metadata": {
    "colab": {
     "base_uri": "https://localhost:8080/"
    },
    "id": "zoVSMpC5KS_D",
    "outputId": "5d47aa40-6628-43be-e4b3-855dac5c2de2"
   },
   "outputs": [
    {
     "name": "stdout",
     "output_type": "stream",
     "text": [
      "Epoch 1/10\n",
      "35/35 [==============================] - 48s 1s/step - loss: 0.5590 - accuracy: 0.7080\n",
      "Epoch 2/10\n",
      "35/35 [==============================] - 23s 630ms/step - loss: 0.3331 - accuracy: 0.8777\n",
      "Epoch 3/10\n",
      "35/35 [==============================] - 9s 268ms/step - loss: 0.2672 - accuracy: 0.9036\n",
      "Epoch 4/10\n",
      "35/35 [==============================] - 9s 269ms/step - loss: 0.2155 - accuracy: 0.9268\n",
      "Epoch 5/10\n",
      "35/35 [==============================] - 9s 269ms/step - loss: 0.1935 - accuracy: 0.9348\n",
      "Epoch 6/10\n",
      "35/35 [==============================] - 9s 271ms/step - loss: 0.1790 - accuracy: 0.9411\n",
      "Epoch 7/10\n",
      "35/35 [==============================] - 10s 275ms/step - loss: 0.1712 - accuracy: 0.9384\n",
      "Epoch 8/10\n",
      "35/35 [==============================] - 10s 273ms/step - loss: 0.1385 - accuracy: 0.9589\n",
      "Epoch 9/10\n",
      "35/35 [==============================] - 10s 276ms/step - loss: 0.1334 - accuracy: 0.9607\n",
      "Epoch 10/10\n",
      "35/35 [==============================] - 10s 276ms/step - loss: 0.1418 - accuracy: 0.9563\n"
     ]
    }
   ],
   "source": [
    "# Start training\n",
    "results = model.fit(\n",
    "    X_train,\n",
    "    y_train_one_hot,\n",
    "    epochs = 10\n",
    ")"
   ]
  },
  {
   "cell_type": "code",
   "execution_count": 47,
   "metadata": {
    "colab": {
     "base_uri": "https://localhost:8080/"
    },
    "id": "Jo4OCYzrLOzZ",
    "outputId": "caeba43d-1ff5-404d-9779-caf3922c4a33"
   },
   "outputs": [
    {
     "name": "stdout",
     "output_type": "stream",
     "text": [
      "Accuracy on Testing Set:\n",
      "12/12 [==============================] - 3s 257ms/step - loss: 0.1354 - accuracy: 0.9599\n"
     ]
    },
    {
     "data": {
      "text/plain": [
       "[0.13538305461406708, 0.9598930478096008]"
      ]
     },
     "execution_count": 47,
     "metadata": {},
     "output_type": "execute_result"
    }
   ],
   "source": [
    "print('Accuracy on Testing Set:')\n",
    "model.evaluate(X_test, y_test_one_hot)"
   ]
  },
  {
   "cell_type": "markdown",
   "metadata": {
    "id": "R1yOVsMDNJMe"
   },
   "source": [
    "# Results"
   ]
  },
  {
   "cell_type": "code",
   "execution_count": 38,
   "metadata": {
    "colab": {
     "base_uri": "https://localhost:8080/",
     "height": 447
    },
    "id": "dyhjlGXvR-wN",
    "outputId": "b8355d39-0e5e-4e80-d23d-561cacb84501"
   },
   "outputs": [
    {
     "data": {
      "text/plain": [
       "<matplotlib.legend.Legend at 0x1f48629be88>"
      ]
     },
     "execution_count": 38,
     "metadata": {},
     "output_type": "execute_result"
    },
    {
     "data": {
      "image/png": "[encoded data removed]",
      "text/plain": [
       "<Figure size 640x480 with 1 Axes>"
      ]
     },
     "metadata": {},
     "output_type": "display_data"
    }
   ],
   "source": [
    "# Plot Accuracy\n",
    "plt.plot(results.history['accuracy'], label='Training accuracy')\n",
    "plt.legend()"
   ]
  },
  {
   "cell_type": "code",
   "execution_count": 40,
   "metadata": {
    "colab": {
     "base_uri": "https://localhost:8080/"
    },
    "id": "lRJztOE0NLCQ",
    "outputId": "c676c11e-60f4-4952-e21e-d223c34a7f16"
   },
   "outputs": [
    {
     "name": "stdout",
     "output_type": "stream",
     "text": [
      "12/12 [==============================] - 4s 274ms/step\n",
      "Predicted classes: [0 0 0 0 0 1 0 1 0 1 1 1 0 0 1 1 0 0 0 0 1 1 1 0 1 1 1 0 1 1 1 0 1 1 1 1 1\n",
      " 1 1 0 1 1 0 0 1 1 0 1 0 0 0 0 1 0 1 1 1 0 1 0 0 0 0 0 0 0 0 1 0 1 1 0 1 1\n",
      " 0 0 0 1 0 1 0 0 1 0 0 0 0 0 1 1 1 0 0 1 1 0 1 1 1 1 1 0 1 0 1 1 1 0 1 1 1\n",
      " 0 1 0 0 0 1 1 0 1 1 0 0 1 1 0 0 0 1 1 1 1 0 0 1 1 0 1 0 1 0 0 1 1 1 1 1 1\n",
      " 1 1 0 0 0 0 1 0 0 1 1 1 0 0 1 0 1 0 0 1 1 0 1 0 0 1 0 1 1 1 1 1 0 1 0 0 1\n",
      " 0 0 1 0 0 1 0 0 1 0 0 0 1 0 1 0 1 1 0 0 0 0 0 0 0 0 0 0 1 1 1 0 1 0 0 1 1\n",
      " 0 0 1 0 0 1 1 0 0 0 1 1 1 1 0 1 0 1 1 1 0 0 0 0 1 0 0 1 0 1 0 1 1 0 1 1 1\n",
      " 1 1 1 1 1 0 1 1 0 0 1 0 1 1 0 0 1 1 0 0 0 0 0 0 1 1 1 0 1 1 1 0 0 1 1 1 1\n",
      " 0 1 0 0 0 1 1 1 1 0 0 1 0 0 1 1 0 1 0 0 1 1 1 0 1 1 0 1 1 0 1 1 0 0 1 0 1\n",
      " 0 1 0 0 0 1 1 1 0 1 0 1 0 0 1 1 1 1 0 0 0 1 0 0 0 0 0 0 1 0 0 0 0 0 1 1 1\n",
      " 0 0 0 1]\n"
     ]
    }
   ],
   "source": [
    "import numpy as np\n",
    "\n",
    "# Sample predictions from a softmax output\n",
    "y_predicted = model.predict(X_test)  # Softmax predictions\n",
    "\n",
    "# Get the predicted class by finding the index of the maximum value along axis 1 (per row)\n",
    "y_predicted_classes = np.argmax(y_predicted, axis=1)  # Resulting in class labels\n",
    "\n",
    "# Check the predicted class labels\n",
    "print(\"Predicted classes:\", y_predicted_classes)"
   ]
  },
  {
   "cell_type": "code",
   "execution_count": 42,
   "metadata": {
    "id": "Bw6E3kUlO4dN"
   },
   "outputs": [
    {
     "data": {
      "text/html": [
       "<div>\n",
       "<style scoped>\n",
       "    .dataframe tbody tr th:only-of-type {\n",
       "        vertical-align: middle;\n",
       "    }\n",
       "\n",
       "    .dataframe tbody tr th {\n",
       "        vertical-align: top;\n",
       "    }\n",
       "\n",
       "    .dataframe thead th {\n",
       "        text-align: right;\n",
       "    }\n",
       "</style>\n",
       "<table border=\"1\" class=\"dataframe\">\n",
       "  <thead>\n",
       "    <tr style=\"text-align: right;\">\n",
       "      <th></th>\n",
       "      <th>v2</th>\n",
       "    </tr>\n",
       "  </thead>\n",
       "  <tbody>\n",
       "    <tr>\n",
       "      <th>3291</th>\n",
       "      <td>Dear good morning how you feeling dear</td>\n",
       "    </tr>\n",
       "    <tr>\n",
       "      <th>3792</th>\n",
       "      <td>Hey are you angry with me. Reply me dr.</td>\n",
       "    </tr>\n",
       "    <tr>\n",
       "      <th>4407</th>\n",
       "      <td>Take care and sleep well.you need to learn to ...</td>\n",
       "    </tr>\n",
       "    <tr>\n",
       "      <th>941</th>\n",
       "      <td>Theyre doing it to lots of places. Only hospit...</td>\n",
       "    </tr>\n",
       "    <tr>\n",
       "      <th>5082</th>\n",
       "      <td>Amazing : If you rearrange these letters it gi...</td>\n",
       "    </tr>\n",
       "  </tbody>\n",
       "</table>\n",
       "</div>"
      ],
      "text/plain": [
       "                                                     v2\n",
       "3291             Dear good morning how you feeling dear\n",
       "3792            Hey are you angry with me. Reply me dr.\n",
       "4407  Take care and sleep well.you need to learn to ...\n",
       "941   Theyre doing it to lots of places. Only hospit...\n",
       "5082  Amazing : If you rearrange these letters it gi..."
      ]
     },
     "execution_count": 42,
     "metadata": {},
     "output_type": "execute_result"
    }
   ],
   "source": [
    "X_test.head()"
   ]
  },
  {
   "cell_type": "code",
   "execution_count": 43,
   "metadata": {
    "colab": {
     "base_uri": "https://localhost:8080/"
    },
    "id": "0_5Ezv6xOnoH",
    "outputId": "839f650a-652e-42dc-e394-b7466d032f2d"
   },
   "outputs": [
    {
     "name": "stdout",
     "output_type": "stream",
     "text": [
      "Sample 1: 'Dear good morning how you feeling dear'\n",
      "Prediction: Not spam \n",
      "\n",
      "Sample 2: 'Hey are you angry with me. Reply me dr.'\n",
      "Prediction: Not spam \n",
      "\n",
      "Sample 3: 'Take care and sleep well.you need to learn to change in life.you only need to get CONVINCED on that.i will wait but no more conversations between us.GET CONVINCED by that time.Your family is over for you in many senses.respect them but not overemphasise.or u have no role in my life.'\n",
      "Prediction: Not spam \n",
      "\n",
      "Sample 4: 'Theyre doing it to lots of places. Only hospitals and medical places are safe.'\n",
      "Prediction: Not spam \n",
      "\n",
      "Sample 5: 'Amazing : If you rearrange these letters it gives the same meaning... Dormitory = Dirty room Astronomer = Moon starer The eyes = They see Election results = Lies lets recount Mother-in-law = Woman Hitler Eleven plus two =Twelve plus one Its Amazing... !:-)'\n",
      "Prediction: Not spam \n",
      "\n",
      "Sample 6: 'No 1 POLYPHONIC tone 4 ur mob every week! Just txt PT2 to 87575. 1st Tone FREE ! so get txtin now and tell ur friends. 150p/tone. 16 reply HL 4info'\n",
      "Prediction: Spam \n",
      "\n",
      "Sample 7: 'So i'm doing a list of buyers.'\n",
      "Prediction: Not spam \n",
      "\n",
      "Sample 8: 'Free entry in 2 a wkly comp to win FA Cup final tkts 21st May 2005. Text FA to 87121 to receive entry question(std txt rate)T&C's apply 08452810075over18's'\n",
      "Prediction: Spam \n",
      "\n",
      "Sample 9: 'Was actually sleeping and still might when u call back. So a text is gr8. You rock sis. Will send u a text wen i wake.'\n",
      "Prediction: Not spam \n",
      "\n",
      "Sample 10: 'Someone U know has asked our dating service 2 contact you! Cant guess who? CALL 09058095107 NOW all will be revealed. POBox 7, S3XY 150p '\n",
      "Prediction: Spam \n",
      "\n",
      "Sample 11: '88800 and 89034 are premium phone services call 08718711108'\n",
      "Prediction: Spam \n",
      "\n",
      "Sample 12: 'Email AlertFrom: Jeri StewartSize: 2KBSubject: Low-cost prescripiton drvgsTo listen to email call 123'\n",
      "Prediction: Spam \n",
      "\n",
      "Sample 13: 'Omg you can make a wedding chapel in frontierville? Why do they get all the good stuff?'\n",
      "Prediction: Not spam \n",
      "\n",
      "Sample 14: 'Don't forget who owns you and who's private property you are ... And be my good boy always .. *passionate kiss*'\n",
      "Prediction: Not spam \n",
      "\n",
      "Sample 15: 'Free-message: Jamster!Get the crazy frog sound now! For poly text MAD1, for real text MAD2 to 88888. 6 crazy sounds for just 3 GBP/week! 16+only! T&C's apply'\n",
      "Prediction: Spam \n",
      "\n",
      "Sample 16: 'Fancy a shag? I do.Interested? sextextuk.com txt XXUK SUZY to 69876. Txts cost 1.50 per msg. TnCs on website. X'\n",
      "Prediction: Spam \n",
      "\n",
      "Sample 17: 'Yeah no probs - last night is obviously catching up with you... Speak soon '\n",
      "Prediction: Not spam \n",
      "\n",
      "Sample 18: 'Old Orchard near univ. How about you?'\n",
      "Prediction: Not spam \n",
      "\n",
      "Sample 19: 'I'm at home n ready...'\n",
      "Prediction: Not spam \n",
      "\n",
      "Sample 20: 'Nice talking to you! please dont forget my pix :) i want to see all of you...'\n",
      "Prediction: Not spam \n",
      "\n"
     ]
    }
   ],
   "source": [
    "# Loop through the first 20 samples\n",
    "for i in range(20):\n",
    "    sample_text = X_test.iloc[i]['v2'] # The original text for the sample\n",
    "    prediction = y_predicted_classes[i]  # The predicted output (0 or 1)\n",
    "\n",
    "    # Convert the prediction to a human-readable label\n",
    "    if prediction == 0:\n",
    "        label = \"Not spam\"\n",
    "    elif prediction == 1:\n",
    "        label = \"Spam\"\n",
    "\n",
    "    # Display the sample text and its predicted output\n",
    "    print(f\"Sample {i+1}: '{sample_text}'\")\n",
    "    print(f\"Prediction: {label} \\n\")\n"
   ]
  },
  {
   "cell_type": "code",
   "execution_count": 44,
   "metadata": {
    "colab": {
     "base_uri": "https://localhost:8080/",
     "height": 616
    },
    "id": "w4BFlhVjQhL4",
    "outputId": "f809007b-3c8f-4cec-a6ca-f5f7696a2c98"
   },
   "outputs": [
    {
     "name": "stdout",
     "output_type": "stream",
     "text": [
      "Confusion Matrix:\n",
      "[[179   8]\n",
      " [  7 180]]\n"
     ]
    },
    {
     "data": {
      "image/png": "[encoded data removed]",
      "text/plain": [
       "<Figure size 600x600 with 2 Axes>"
      ]
     },
     "metadata": {},
     "output_type": "display_data"
    }
   ],
   "source": [
    "# Assuming softmax predictions from the model\n",
    "y_predicted_classes = np.argmax(y_predicted, axis=1)  # Convert softmax predictions to class labels\n",
    "\n",
    "# Converting one-hot labels to class labels\n",
    "y_test_classes = np.argmax(y_test_one_hot, axis=1)  # From one-hot to class labels\n",
    "\n",
    "# Generate the confusion matrix\n",
    "conf_matrix = confusion_matrix(y_test_classes, y_predicted_classes)  # True vs. predicted classes\n",
    "\n",
    "# Print the confusion matrix to see the raw data\n",
    "print(\"Confusion Matrix:\")\n",
    "print(conf_matrix)\n",
    "\n",
    "# Optional: Visualize the confusion matrix with a heatmap\n",
    "plt.figure(figsize=(6, 6))\n",
    "sns.heatmap(conf_matrix, annot=True, fmt=\"d\", cmap=\"Blues\", xticklabels=[\"Not Spam\", \"Spam\"], yticklabels=[\"Not Spam\", \"Spam\"])\n",
    "plt.xlabel(\"Predicted\")\n",
    "plt.ylabel(\"True\")\n",
    "plt.title(\"Confusion Matrix\")\n",
    "plt.show()\n"
   ]
  }
 ],
 "metadata": {
  "accelerator": "GPU",
  "colab": {
   "gpuType": "T4",
   "machine_shape": "hm",
   "provenance": []
  },
  "kernelspec": {
   "display_name": "Python 3 (ipykernel)",
   "language": "python",
   "name": "python3"
  },
  "language_info": {
   "codemirror_mode": {
    "name": "ipython",
    "version": 3
   },
   "file_extension": ".py",
   "mimetype": "text/x-python",
   "name": "python",
   "nbconvert_exporter": "python",
   "pygments_lexer": "ipython3",
   "version": "3.7.12"
  }
 },
 "nbformat": 4,
 "nbformat_minor": 1
}
