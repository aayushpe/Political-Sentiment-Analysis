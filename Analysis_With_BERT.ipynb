{
 "cells": [
  {
   "cell_type": "markdown",
   "metadata": {
    "id": "6Z5uV0ZuqpJN"
   },
   "source": [
    "# Instantiate BERT model"
   ]
  },
  {
   "cell_type": "code",
   "execution_count": 2,
   "metadata": {
    "colab": {
     "base_uri": "https://localhost:8080/"
    },
    "id": "23TOba33L4qf",
    "outputId": "fda37e6e-3578-4fe6-b74a-889ef0610daa"
   },
   "outputs": [
    {
     "name": "stdout",
     "output_type": "stream",
     "text": [
      "Sun Apr 21 16:01:07 2024       \n",
      "+-----------------------------------------------------------------------------------------+\n",
      "| NVIDIA-SMI 551.78                 Driver Version: 551.78         CUDA Version: 12.4     |\n",
      "|-----------------------------------------+------------------------+----------------------+\n",
      "| GPU  Name                     TCC/WDDM  | Bus-Id          Disp.A | Volatile Uncorr. ECC |\n",
      "| Fan  Temp   Perf          Pwr:Usage/Cap |           Memory-Usage | GPU-Util  Compute M. |\n",
      "|                                         |                        |               MIG M. |\n",
      "|=========================================+========================+======================|\n",
      "|   0  Quadro RTX 5000              WDDM  |   00000000:01:00.0  On |                  N/A |\n",
      "| N/A   54C    P0             42W /  110W |    1005MiB /  16384MiB |      2%      Default |\n",
      "|                                         |                        |                  N/A |\n",
      "+-----------------------------------------+------------------------+----------------------+\n",
      "                                                                                         \n",
      "+-----------------------------------------------------------------------------------------+\n",
      "| Processes:                                                                              |\n",
      "|  GPU   GI   CI        PID   Type   Process name                              GPU Memory |\n",
      "|        ID   ID                                                               Usage      |\n",
      "|=========================================================================================|\n",
      "|    0   N/A  N/A      7676    C+G   ...oogle\\Chrome\\Application\\chrome.exe      N/A      |\n",
      "|    0   N/A  N/A      9096    C+G   C:\\Windows\\explorer.exe                     N/A      |\n",
      "|    0   N/A  N/A      9136    C+G   ...t.LockApp_cw5n1h2txyewy\\LockApp.exe      N/A      |\n",
      "|    0   N/A  N/A     14572    C+G   ...nt.CBS_cw5n1h2txyewy\\SearchHost.exe      N/A      |\n",
      "|    0   N/A  N/A     14624    C+G   ...2txyewy\\StartMenuExperienceHost.exe      N/A      |\n",
      "|    0   N/A  N/A     16380    C+G   ...ns\\Software\\Current\\LogiOverlay.exe      N/A      |\n",
      "|    0   N/A  N/A     16512    C+G   ...on\\123.0.2420.97\\msedgewebview2.exe      N/A      |\n",
      "|    0   N/A  N/A     16532    C+G   ...cks-services\\BlueStacksServices.exe      N/A      |\n",
      "|    0   N/A  N/A     17592    C+G   ...inaries\\Win64\\EpicGamesLauncher.exe      N/A      |\n",
      "|    0   N/A  N/A     17740    C+G   ...CBS_cw5n1h2txyewy\\TextInputHost.exe      N/A      |\n",
      "|    0   N/A  N/A     19792    C+G   ...on\\123.0.2420.65\\msedgewebview2.exe      N/A      |\n",
      "|    0   N/A  N/A     19900    C+G   ...1.0_x64__8wekyb3d8bbwe\\Video.UI.exe      N/A      |\n",
      "|    0   N/A  N/A     20000    C+G   ...Programs\\Microsoft VS Code\\Code.exe      N/A      |\n",
      "|    0   N/A  N/A     20760    C+G   ...al\\Discord\\app-1.0.9041\\Discord.exe      N/A      |\n",
      "|    0   N/A  N/A     21164    C+G   ...5911_x64__8wekyb3d8bbwe\\msteams.exe      N/A      |\n",
      "|    0   N/A  N/A     21172    C+G   ...500_x64__8wekyb3d8bbwe\\ms-teams.exe      N/A      |\n",
      "|    0   N/A  N/A     22144    C+G   ...crosoft\\Edge\\Application\\msedge.exe      N/A      |\n",
      "|    0   N/A  N/A     22352    C+G   ...\\cef\\cef.win7x64\\steamwebhelper.exe      N/A      |\n",
      "|    0   N/A  N/A     22388    C+G   ...ne\\Binaries\\Win64\\EpicWebHelper.exe      N/A      |\n",
      "|    0   N/A  N/A     23676    C+G   ...B\\system_tray\\lghub_system_tray.exe      N/A      |\n",
      "|    0   N/A  N/A     24884    C+G   ...ekyb3d8bbwe\\PhoneExperienceHost.exe      N/A      |\n",
      "|    0   N/A  N/A     26188    C+G   ...AppData\\Roaming\\Spotify\\Spotify.exe      N/A      |\n",
      "|    0   N/A  N/A     27816    C+G   ...les\\Microsoft OneDrive\\OneDrive.exe      N/A      |\n",
      "|    0   N/A  N/A     28232    C+G   ...al\\Programs\\Messenger\\Messenger.exe      N/A      |\n",
      "|    0   N/A  N/A     37524    C+G   ...5n1h2txyewy\\ShellExperienceHost.exe      N/A      |\n",
      "+-----------------------------------------------------------------------------------------+\n"
     ]
    }
   ],
   "source": [
    "gpu_info = !nvidia-smi\n",
    "gpu_info = '\\n'.join(gpu_info)\n",
    "if gpu_info.find('failed') >= 0:\n",
    "  print('Not connected to a GPU')\n",
    "else:\n",
    "  print(gpu_info)"
   ]
  },
  {
   "cell_type": "code",
   "execution_count": 3,
   "metadata": {
    "id": "ARIriYjVgw2I"
   },
   "outputs": [],
   "source": [
    "# BERT reference: https://www.kaggle.com/models/tensorflow/bert\n",
    "# !pip install tensorflow_hub tensorflow_text -> run if needed\n",
    "import tensorflow as tf\n",
    "import tensorflow_hub as hub\n",
    "import tensorflow_text as text\n",
    "import pandas as pd\n",
    "from sklearn.model_selection import train_test_split\n",
    "from tensorflow.keras.utils import to_categorical\n",
    "\n",
    "import numpy as np\n",
    "from sklearn.metrics import confusion_matrix\n",
    "import seaborn as sns\n",
    "import matplotlib.pyplot as plt"
   ]
  },
  {
   "cell_type": "code",
   "execution_count": 4,
   "metadata": {
    "id": "a9aYyNB-kbhc"
   },
   "outputs": [],
   "source": [
    "preprocess_url = 'https://tfhub.dev/tensorflow/bert_en_uncased_preprocess/3'\n",
    "encoder_url = 'https://tfhub.dev/tensorflow/bert_en_uncased_L-12_H-768_A-12/4'"
   ]
  },
  {
   "cell_type": "code",
   "execution_count": 5,
   "metadata": {
    "id": "RmrmXvrRlHs5"
   },
   "outputs": [],
   "source": [
    "# Instatiate bert preprocessor\n",
    "bert_preprocessor = hub.KerasLayer(preprocess_url)"
   ]
  },
  {
   "cell_type": "markdown",
   "metadata": {
    "id": "l1fSBG0aqwLj"
   },
   "source": [
    "# Preprocess the Text"
   ]
  },
  {
   "cell_type": "code",
   "execution_count": 6,
   "metadata": {
    "colab": {
     "base_uri": "https://localhost:8080/"
    },
    "id": "P2xkMjshnJPd",
    "outputId": "4da1d8ff-a864-45e4-fea5-7558db013bf8"
   },
   "outputs": [
    {
     "name": "stdout",
     "output_type": "stream",
     "text": [
      "dict_keys(['input_word_ids', 'input_type_ids', 'input_mask'])\n"
     ]
    }
   ],
   "source": [
    "# Create text\n",
    "test_text = ['Hello, nice to meet you', 'What are you doing?']\n",
    "\n",
    "# Preprocess the text\n",
    "preprocessed_text = bert_preprocessor(test_text)\n",
    "\n",
    "# Keys returned from the preprocessed text\n",
    "print(preprocessed_text.keys())"
   ]
  },
  {
   "cell_type": "code",
   "execution_count": 7,
   "metadata": {
    "colab": {
     "base_uri": "https://localhost:8080/"
    },
    "id": "7Be_rzqdn4t5",
    "outputId": "42633bf1-6ce6-45c1-cc6a-b6efc7f5e86b"
   },
   "outputs": [
    {
     "name": "stdout",
     "output_type": "stream",
     "text": [
      "tf.Tensor(\n",
      "[[ 101 7592 1010 3835 2000 3113 2017  102    0    0    0    0    0    0\n",
      "     0    0    0    0    0    0    0    0    0    0    0    0    0    0\n",
      "     0    0    0    0    0    0    0    0    0    0    0    0    0    0\n",
      "     0    0    0    0    0    0    0    0    0    0    0    0    0    0\n",
      "     0    0    0    0    0    0    0    0    0    0    0    0    0    0\n",
      "     0    0    0    0    0    0    0    0    0    0    0    0    0    0\n",
      "     0    0    0    0    0    0    0    0    0    0    0    0    0    0\n",
      "     0    0    0    0    0    0    0    0    0    0    0    0    0    0\n",
      "     0    0    0    0    0    0    0    0    0    0    0    0    0    0\n",
      "     0    0]\n",
      " [ 101 2054 2024 2017 2725 1029  102    0    0    0    0    0    0    0\n",
      "     0    0    0    0    0    0    0    0    0    0    0    0    0    0\n",
      "     0    0    0    0    0    0    0    0    0    0    0    0    0    0\n",
      "     0    0    0    0    0    0    0    0    0    0    0    0    0    0\n",
      "     0    0    0    0    0    0    0    0    0    0    0    0    0    0\n",
      "     0    0    0    0    0    0    0    0    0    0    0    0    0    0\n",
      "     0    0    0    0    0    0    0    0    0    0    0    0    0    0\n",
      "     0    0    0    0    0    0    0    0    0    0    0    0    0    0\n",
      "     0    0    0    0    0    0    0    0    0    0    0    0    0    0\n",
      "     0    0]], shape=(2, 128), dtype=int32)\n"
     ]
    }
   ],
   "source": [
    "# Shows the word ids for each word\n",
    "print(preprocessed_text['input_word_ids'])"
   ]
  },
  {
   "cell_type": "markdown",
   "metadata": {
    "id": "teG0e1fAq2MI"
   },
   "source": [
    "# Convert the text into its word embeddings"
   ]
  },
  {
   "cell_type": "code",
   "execution_count": 8,
   "metadata": {
    "colab": {
     "base_uri": "https://localhost:8080/"
    },
    "id": "TchIzCOVoZSm",
    "outputId": "cb1ee9c8-1335-43e7-db5b-118d26be5b18"
   },
   "outputs": [
    {
     "name": "stdout",
     "output_type": "stream",
     "text": [
      "dict_keys(['encoder_outputs', 'pooled_output', 'default', 'sequence_output'])\n"
     ]
    }
   ],
   "source": [
    "# Instatiate the Bert encoder to get the word embeddings\n",
    "bert_model = hub.KerasLayer(encoder_url)\n",
    "\n",
    "# Get the word embeddings from text defined earlier\n",
    "word_embeddings = bert_model(preprocessed_text)\n",
    "\n",
    "# View the word embeddings' keys\n",
    "print(word_embeddings.keys())"
   ]
  },
  {
   "cell_type": "code",
   "execution_count": 7,
   "metadata": {
    "colab": {
     "base_uri": "https://localhost:8080/"
    },
    "id": "r6VpmuabpaQb",
    "outputId": "445785d9-b2fc-4d0c-f18e-e8d4add259e9"
   },
   "outputs": [
    {
     "data": {
      "text/plain": [
       "<tf.Tensor: shape=(2, 768), dtype=float32, numpy=\n",
       "array([[-0.81530607, -0.35409263, -0.69899064, ..., -0.5374823 ,\n",
       "        -0.6587062 ,  0.8210166 ],\n",
       "       [-0.9474851 , -0.4375451 , -0.942899  , ..., -0.7329442 ,\n",
       "        -0.7414421 ,  0.96138775]], dtype=float32)>"
      ]
     },
     "execution_count": 7,
     "metadata": {},
     "output_type": "execute_result"
    }
   ],
   "source": [
    "# Show the embeddings for both scentences in the text\n",
    "word_embeddings['pooled_output']"
   ]
  },
  {
   "cell_type": "markdown",
   "metadata": {
    "id": "CZl1UlVfqHUG"
   },
   "source": [
    "# Now that the sentences have been coverted to embeddings, it can be used in a neural network for different applications\n",
    "\n"
   ]
  },
  {
   "cell_type": "markdown",
   "metadata": {
    "id": "8WjYfHu7r3Oe"
   },
   "source": [
    "Once we Have our political sentiment data, we can recreate the steps below in order to train our model.\n",
    "\n",
    "For now, I tested it on a dataset for spam emails. This will be a simple neural network with a final softmax layer and an output of 2 for binary classification. When we are working with our political sentiment analysis data, we would need more (left leaning, right leaning, etc..)"
   ]
  },
  {
   "cell_type": "markdown",
   "metadata": {
    "id": "U2ac4uyg6UDg"
   },
   "source": [
    "# Process Data"
   ]
  },
  {
   "cell_type": "code",
   "execution_count": 9,
   "metadata": {
    "colab": {
     "base_uri": "https://localhost:8080/",
     "height": 206
    },
    "id": "zsYA5DkaqQcr",
    "outputId": "0b3ae409-9481-436e-d7aa-7439efda1ee1"
   },
   "outputs": [
    {
     "data": {
      "text/html": [
       "<div>\n",
       "<style scoped>\n",
       "    .dataframe tbody tr th:only-of-type {\n",
       "        vertical-align: middle;\n",
       "    }\n",
       "\n",
       "    .dataframe tbody tr th {\n",
       "        vertical-align: top;\n",
       "    }\n",
       "\n",
       "    .dataframe thead th {\n",
       "        text-align: right;\n",
       "    }\n",
       "</style>\n",
       "<table border=\"1\" class=\"dataframe\">\n",
       "  <thead>\n",
       "    <tr style=\"text-align: right;\">\n",
       "      <th></th>\n",
       "      <th>v1</th>\n",
       "      <th>v2</th>\n",
       "      <th>Unnamed: 2</th>\n",
       "      <th>Unnamed: 3</th>\n",
       "      <th>Unnamed: 4</th>\n",
       "    </tr>\n",
       "  </thead>\n",
       "  <tbody>\n",
       "    <tr>\n",
       "      <th>0</th>\n",
       "      <td>ham</td>\n",
       "      <td>Go until jurong point, crazy.. Available only ...</td>\n",
       "      <td>NaN</td>\n",
       "      <td>NaN</td>\n",
       "      <td>NaN</td>\n",
       "    </tr>\n",
       "    <tr>\n",
       "      <th>1</th>\n",
       "      <td>ham</td>\n",
       "      <td>Ok lar... Joking wif u oni...</td>\n",
       "      <td>NaN</td>\n",
       "      <td>NaN</td>\n",
       "      <td>NaN</td>\n",
       "    </tr>\n",
       "    <tr>\n",
       "      <th>2</th>\n",
       "      <td>spam</td>\n",
       "      <td>Free entry in 2 a wkly comp to win FA Cup fina...</td>\n",
       "      <td>NaN</td>\n",
       "      <td>NaN</td>\n",
       "      <td>NaN</td>\n",
       "    </tr>\n",
       "    <tr>\n",
       "      <th>3</th>\n",
       "      <td>ham</td>\n",
       "      <td>U dun say so early hor... U c already then say...</td>\n",
       "      <td>NaN</td>\n",
       "      <td>NaN</td>\n",
       "      <td>NaN</td>\n",
       "    </tr>\n",
       "    <tr>\n",
       "      <th>4</th>\n",
       "      <td>ham</td>\n",
       "      <td>Nah I don't think he goes to usf, he lives aro...</td>\n",
       "      <td>NaN</td>\n",
       "      <td>NaN</td>\n",
       "      <td>NaN</td>\n",
       "    </tr>\n",
       "  </tbody>\n",
       "</table>\n",
       "</div>"
      ],
      "text/plain": [
       "     v1                                                 v2 Unnamed: 2  \\\n",
       "0   ham  Go until jurong point, crazy.. Available only ...        NaN   \n",
       "1   ham                      Ok lar... Joking wif u oni...        NaN   \n",
       "2  spam  Free entry in 2 a wkly comp to win FA Cup fina...        NaN   \n",
       "3   ham  U dun say so early hor... U c already then say...        NaN   \n",
       "4   ham  Nah I don't think he goes to usf, he lives aro...        NaN   \n",
       "\n",
       "  Unnamed: 3 Unnamed: 4  \n",
       "0        NaN        NaN  \n",
       "1        NaN        NaN  \n",
       "2        NaN        NaN  \n",
       "3        NaN        NaN  \n",
       "4        NaN        NaN  "
      ]
     },
     "execution_count": 9,
     "metadata": {},
     "output_type": "execute_result"
    }
   ],
   "source": [
    "# Read in file\n",
    "data = pd.read_csv('spam.csv', encoding='latin1')\n",
    "\n",
    "# Show some data\n",
    "data.head()"
   ]
  },
  {
   "cell_type": "code",
   "execution_count": 10,
   "metadata": {
    "colab": {
     "base_uri": "https://localhost:8080/",
     "height": 447
    },
    "id": "31Emn-jCt3av",
    "outputId": "db797097-19fe-4757-bc4e-9348028b6b98"
   },
   "outputs": [
    {
     "data": {
      "text/plain": [
       "<AxesSubplot:>"
      ]
     },
     "execution_count": 10,
     "metadata": {},
     "output_type": "execute_result"
    },
    {
     "data": {
      "image/png": "[encoded data removed]",
      "text/plain": [
       "<Figure size 640x480 with 1 Axes>"
      ]
     },
     "metadata": {},
     "output_type": "display_data"
    }
   ],
   "source": [
    "# Show data Imbalance\n",
    "data['v1'].hist()"
   ]
  },
  {
   "cell_type": "code",
   "execution_count": 11,
   "metadata": {
    "colab": {
     "base_uri": "https://localhost:8080/"
    },
    "id": "l294HifWwjHh",
    "outputId": "a0ecbc2e-353d-4483-f4ee-e9d54513d8a9"
   },
   "outputs": [
    {
     "data": {
      "text/plain": [
       "(747, 5)"
      ]
     },
     "execution_count": 11,
     "metadata": {},
     "output_type": "execute_result"
    }
   ],
   "source": [
    "# Seperate only spam data\n",
    "data_spam = data[data['v1'] == 'spam']\n",
    "data_spam.shape"
   ]
  },
  {
   "cell_type": "code",
   "execution_count": 12,
   "metadata": {
    "colab": {
     "base_uri": "https://localhost:8080/"
    },
    "id": "qm7a33K9xzHF",
    "outputId": "f3193c9b-7b23-4123-c5b7-22e82146708c"
   },
   "outputs": [
    {
     "data": {
      "text/plain": [
       "(4825, 5)"
      ]
     },
     "execution_count": 12,
     "metadata": {},
     "output_type": "execute_result"
    }
   ],
   "source": [
    "# Seperate only non-spam data\n",
    "data_ham = data[data['v1'] == 'ham']\n",
    "data_ham.shape"
   ]
  },
  {
   "cell_type": "code",
   "execution_count": 13,
   "metadata": {
    "colab": {
     "base_uri": "https://localhost:8080/"
    },
    "id": "9808k97tx5PY",
    "outputId": "e2c6eab2-2144-4eb7-e973-79ed25918023"
   },
   "outputs": [
    {
     "data": {
      "text/plain": [
       "(747, 5)"
      ]
     },
     "execution_count": 13,
     "metadata": {},
     "output_type": "execute_result"
    }
   ],
   "source": [
    "# Down sample non-spam data to avoid overfitting\n",
    "data_ham_downsampled = data_ham.sample(data_spam.shape[0])\n",
    "data_ham_downsampled.shape"
   ]
  },
  {
   "cell_type": "code",
   "execution_count": 14,
   "metadata": {
    "colab": {
     "base_uri": "https://localhost:8080/"
    },
    "id": "5u8pTl9gyV6C",
    "outputId": "6421196e-5c5e-419b-8c20-62a9dbf95db5"
   },
   "outputs": [
    {
     "data": {
      "text/plain": [
       "(1494, 5)"
      ]
     },
     "execution_count": 14,
     "metadata": {},
     "output_type": "execute_result"
    }
   ],
   "source": [
    "# Merge samples backtogether again\n",
    "final_data = pd.concat([data_spam, data_ham_downsampled])\n",
    "final_data.shape"
   ]
  },
  {
   "cell_type": "code",
   "execution_count": 15,
   "metadata": {
    "colab": {
     "base_uri": "https://localhost:8080/",
     "height": 517
    },
    "id": "aSc6rod7ylut",
    "outputId": "2ee513e8-71d6-48af-ca73-483ba9dcfbe9"
   },
   "outputs": [
    {
     "name": "stdout",
     "output_type": "stream",
     "text": [
      "spam    747\n",
      "ham     747\n",
      "Name: v1, dtype: int64\n"
     ]
    },
    {
     "data": {
      "text/plain": [
       "<AxesSubplot:>"
      ]
     },
     "execution_count": 15,
     "metadata": {},
     "output_type": "execute_result"
    },
    {
     "data": {
      "image/png": "[encoded data removed]",
      "text/plain": [
       "<Figure size 640x480 with 1 Axes>"
      ]
     },
     "metadata": {},
     "output_type": "display_data"
    }
   ],
   "source": [
    "# Check downsampled dataset\n",
    "print(final_data['v1'].value_counts())\n",
    "final_data['v1'].hist()"
   ]
  },
  {
   "cell_type": "code",
   "execution_count": 16,
   "metadata": {
    "colab": {
     "base_uri": "https://localhost:8080/",
     "height": 224
    },
    "id": "kuNvYW_cy9d8",
    "outputId": "7b3639c9-2ecb-468f-c744-ef502d1a925b"
   },
   "outputs": [
    {
     "name": "stdout",
     "output_type": "stream",
     "text": [
      "Shape of final data: (1494, 5)\n"
     ]
    },
    {
     "data": {
      "text/html": [
       "<div>\n",
       "<style scoped>\n",
       "    .dataframe tbody tr th:only-of-type {\n",
       "        vertical-align: middle;\n",
       "    }\n",
       "\n",
       "    .dataframe tbody tr th {\n",
       "        vertical-align: top;\n",
       "    }\n",
       "\n",
       "    .dataframe thead th {\n",
       "        text-align: right;\n",
       "    }\n",
       "</style>\n",
       "<table border=\"1\" class=\"dataframe\">\n",
       "  <thead>\n",
       "    <tr style=\"text-align: right;\">\n",
       "      <th></th>\n",
       "      <th>v1</th>\n",
       "      <th>v2</th>\n",
       "      <th>Unnamed: 2</th>\n",
       "      <th>Unnamed: 3</th>\n",
       "      <th>Unnamed: 4</th>\n",
       "    </tr>\n",
       "  </thead>\n",
       "  <tbody>\n",
       "    <tr>\n",
       "      <th>4342</th>\n",
       "      <td>ham</td>\n",
       "      <td>Its a valentine game. . . send dis msg to all ...</td>\n",
       "      <td>NaN</td>\n",
       "      <td>NaN</td>\n",
       "      <td>NaN</td>\n",
       "    </tr>\n",
       "    <tr>\n",
       "      <th>796</th>\n",
       "      <td>spam</td>\n",
       "      <td>Orange customer, you may now claim your FREE C...</td>\n",
       "      <td>NaN</td>\n",
       "      <td>NaN</td>\n",
       "      <td>NaN</td>\n",
       "    </tr>\n",
       "    <tr>\n",
       "      <th>2132</th>\n",
       "      <td>spam</td>\n",
       "      <td>Your B4U voucher w/c 27/03 is MARSMS. Log onto...</td>\n",
       "      <td>NaN</td>\n",
       "      <td>NaN</td>\n",
       "      <td>NaN</td>\n",
       "    </tr>\n",
       "    <tr>\n",
       "      <th>3719</th>\n",
       "      <td>ham</td>\n",
       "      <td>Yeah why not, is the gang all ready</td>\n",
       "      <td>NaN</td>\n",
       "      <td>NaN</td>\n",
       "      <td>NaN</td>\n",
       "    </tr>\n",
       "    <tr>\n",
       "      <th>268</th>\n",
       "      <td>ham</td>\n",
       "      <td>The evo. I just had to download flash. Jealous?</td>\n",
       "      <td>NaN</td>\n",
       "      <td>NaN</td>\n",
       "      <td>NaN</td>\n",
       "    </tr>\n",
       "  </tbody>\n",
       "</table>\n",
       "</div>"
      ],
      "text/plain": [
       "        v1                                                 v2 Unnamed: 2  \\\n",
       "4342   ham  Its a valentine game. . . send dis msg to all ...        NaN   \n",
       "796   spam  Orange customer, you may now claim your FREE C...        NaN   \n",
       "2132  spam  Your B4U voucher w/c 27/03 is MARSMS. Log onto...        NaN   \n",
       "3719   ham                Yeah why not, is the gang all ready        NaN   \n",
       "268    ham    The evo. I just had to download flash. Jealous?        NaN   \n",
       "\n",
       "     Unnamed: 3 Unnamed: 4  \n",
       "4342        NaN        NaN  \n",
       "796         NaN        NaN  \n",
       "2132        NaN        NaN  \n",
       "3719        NaN        NaN  \n",
       "268         NaN        NaN  "
      ]
     },
     "execution_count": 16,
     "metadata": {},
     "output_type": "execute_result"
    }
   ],
   "source": [
    "print('Shape of final data: ' + str(final_data.shape))\n",
    "final_data.sample(5)"
   ]
  },
  {
   "cell_type": "code",
   "execution_count": 17,
   "metadata": {
    "colab": {
     "base_uri": "https://localhost:8080/",
     "height": 206
    },
    "id": "kV2MjAtx05-Q",
    "outputId": "39f3ec19-922f-42ae-bd9e-a7b6eeee05ff"
   },
   "outputs": [
    {
     "data": {
      "text/html": [
       "<div>\n",
       "<style scoped>\n",
       "    .dataframe tbody tr th:only-of-type {\n",
       "        vertical-align: middle;\n",
       "    }\n",
       "\n",
       "    .dataframe tbody tr th {\n",
       "        vertical-align: top;\n",
       "    }\n",
       "\n",
       "    .dataframe thead th {\n",
       "        text-align: right;\n",
       "    }\n",
       "</style>\n",
       "<table border=\"1\" class=\"dataframe\">\n",
       "  <thead>\n",
       "    <tr style=\"text-align: right;\">\n",
       "      <th></th>\n",
       "      <th>v1</th>\n",
       "      <th>v2</th>\n",
       "      <th>Unnamed: 2</th>\n",
       "      <th>Unnamed: 3</th>\n",
       "      <th>Unnamed: 4</th>\n",
       "      <th>spam</th>\n",
       "    </tr>\n",
       "  </thead>\n",
       "  <tbody>\n",
       "    <tr>\n",
       "      <th>4602</th>\n",
       "      <td>ham</td>\n",
       "      <td>And I don't plan on staying the night but I pr...</td>\n",
       "      <td>NaN</td>\n",
       "      <td>NaN</td>\n",
       "      <td>NaN</td>\n",
       "      <td>0</td>\n",
       "    </tr>\n",
       "    <tr>\n",
       "      <th>3508</th>\n",
       "      <td>ham</td>\n",
       "      <td>Hi Petey!noiåÕm ok just wanted 2 chat coz aven...</td>\n",
       "      <td>NaN</td>\n",
       "      <td>NaN</td>\n",
       "      <td>NaN</td>\n",
       "      <td>0</td>\n",
       "    </tr>\n",
       "    <tr>\n",
       "      <th>3665</th>\n",
       "      <td>ham</td>\n",
       "      <td>I'm turning off my phone. My moms telling ever...</td>\n",
       "      <td>NaN</td>\n",
       "      <td>NaN</td>\n",
       "      <td>NaN</td>\n",
       "      <td>0</td>\n",
       "    </tr>\n",
       "    <tr>\n",
       "      <th>3476</th>\n",
       "      <td>ham</td>\n",
       "      <td>I got it before the new year cos yetunde said ...</td>\n",
       "      <td>NaN</td>\n",
       "      <td>NaN</td>\n",
       "      <td>NaN</td>\n",
       "      <td>0</td>\n",
       "    </tr>\n",
       "    <tr>\n",
       "      <th>5451</th>\n",
       "      <td>ham</td>\n",
       "      <td>Just sing HU. I think its also important to fi...</td>\n",
       "      <td>NaN</td>\n",
       "      <td>NaN</td>\n",
       "      <td>NaN</td>\n",
       "      <td>0</td>\n",
       "    </tr>\n",
       "  </tbody>\n",
       "</table>\n",
       "</div>"
      ],
      "text/plain": [
       "       v1                                                 v2 Unnamed: 2  \\\n",
       "4602  ham  And I don't plan on staying the night but I pr...        NaN   \n",
       "3508  ham  Hi Petey!noiåÕm ok just wanted 2 chat coz aven...        NaN   \n",
       "3665  ham  I'm turning off my phone. My moms telling ever...        NaN   \n",
       "3476  ham  I got it before the new year cos yetunde said ...        NaN   \n",
       "5451  ham  Just sing HU. I think its also important to fi...        NaN   \n",
       "\n",
       "     Unnamed: 3 Unnamed: 4  spam  \n",
       "4602        NaN        NaN     0  \n",
       "3508        NaN        NaN     0  \n",
       "3665        NaN        NaN     0  \n",
       "3476        NaN        NaN     0  \n",
       "5451        NaN        NaN     0  "
      ]
     },
     "execution_count": 17,
     "metadata": {},
     "output_type": "execute_result"
    }
   ],
   "source": [
    "# Convert spam and ham to 1s and 0s and store it in a new column named spam\n",
    "final_data['spam'] = final_data['v1'].apply(lambda x: 1 if x=='spam' else 0)\n",
    "final_data.sample(5)"
   ]
  },
  {
   "cell_type": "markdown",
   "metadata": {
    "id": "ZgiYIuln6YJt"
   },
   "source": [
    "# Get word embeddings for data"
   ]
  },
  {
   "cell_type": "code",
   "execution_count": 18,
   "metadata": {
    "id": "il2uR_iC2ssN"
   },
   "outputs": [],
   "source": [
    "# Make training and testing split with data\n",
    "X_train, X_test, y_train, y_test = train_test_split(final_data.drop(['v1', 'spam', 'Unnamed: 3', 'Unnamed: 4', 'Unnamed: 2'], axis=1),\n",
    "                                                    final_data['spam'],\n",
    "                                                    stratify=final_data['spam'])\n",
    "\n",
    "# final_data.drop(['v1', 'spam', 'Unnamed: 3', 'Unnamed: 4', 'Unnamed: 2'], axis=1 takes in only v2 column"
   ]
  },
  {
   "cell_type": "code",
   "execution_count": 19,
   "metadata": {
    "colab": {
     "base_uri": "https://localhost:8080/",
     "height": 363
    },
    "id": "ZBjwhd9e3cTC",
    "outputId": "11b59bec-042d-43b3-c8ca-1da37091ed98"
   },
   "outputs": [
    {
     "data": {
      "text/html": [
       "<div>\n",
       "<style scoped>\n",
       "    .dataframe tbody tr th:only-of-type {\n",
       "        vertical-align: middle;\n",
       "    }\n",
       "\n",
       "    .dataframe tbody tr th {\n",
       "        vertical-align: top;\n",
       "    }\n",
       "\n",
       "    .dataframe thead th {\n",
       "        text-align: right;\n",
       "    }\n",
       "</style>\n",
       "<table border=\"1\" class=\"dataframe\">\n",
       "  <thead>\n",
       "    <tr style=\"text-align: right;\">\n",
       "      <th></th>\n",
       "      <th>v2</th>\n",
       "    </tr>\n",
       "  </thead>\n",
       "  <tbody>\n",
       "    <tr>\n",
       "      <th>4973</th>\n",
       "      <td>Aiyo u so poor thing... Then u dun wan 2 eat? ...</td>\n",
       "    </tr>\n",
       "    <tr>\n",
       "      <th>3107</th>\n",
       "      <td>Hello hun how ru? Its here by the way. Im good...</td>\n",
       "    </tr>\n",
       "    <tr>\n",
       "      <th>3011</th>\n",
       "      <td>Yeah no probs - last night is obviously catchi...</td>\n",
       "    </tr>\n",
       "    <tr>\n",
       "      <th>3719</th>\n",
       "      <td>Yeah why not, is the gang all ready</td>\n",
       "    </tr>\n",
       "    <tr>\n",
       "      <th>1983</th>\n",
       "      <td>I wnt to buy a BMW car urgently..its vry urgen...</td>\n",
       "    </tr>\n",
       "    <tr>\n",
       "      <th>1612</th>\n",
       "      <td>RT-KIng Pro Video Club&gt;&gt; Need help? info@ringt...</td>\n",
       "    </tr>\n",
       "    <tr>\n",
       "      <th>5077</th>\n",
       "      <td>Do you want a New Nokia 3510i colour phone Del...</td>\n",
       "    </tr>\n",
       "    <tr>\n",
       "      <th>718</th>\n",
       "      <td>You have WON a guaranteed å£1000 cash or a å£2...</td>\n",
       "    </tr>\n",
       "    <tr>\n",
       "      <th>4723</th>\n",
       "      <td>FREE GAME. Get Rayman Golf 4 FREE from the O2 ...</td>\n",
       "    </tr>\n",
       "    <tr>\n",
       "      <th>4142</th>\n",
       "      <td>In The Simpsons Movie released in July 2007 na...</td>\n",
       "    </tr>\n",
       "  </tbody>\n",
       "</table>\n",
       "</div>"
      ],
      "text/plain": [
       "                                                     v2\n",
       "4973  Aiyo u so poor thing... Then u dun wan 2 eat? ...\n",
       "3107  Hello hun how ru? Its here by the way. Im good...\n",
       "3011  Yeah no probs - last night is obviously catchi...\n",
       "3719                Yeah why not, is the gang all ready\n",
       "1983  I wnt to buy a BMW car urgently..its vry urgen...\n",
       "1612  RT-KIng Pro Video Club>> Need help? info@ringt...\n",
       "5077  Do you want a New Nokia 3510i colour phone Del...\n",
       "718   You have WON a guaranteed å£1000 cash or a å£2...\n",
       "4723  FREE GAME. Get Rayman Golf 4 FREE from the O2 ...\n",
       "4142  In The Simpsons Movie released in July 2007 na..."
      ]
     },
     "execution_count": 19,
     "metadata": {},
     "output_type": "execute_result"
    }
   ],
   "source": [
    "X_train.sample(10)"
   ]
  },
  {
   "cell_type": "code",
   "execution_count": 20,
   "metadata": {
    "colab": {
     "base_uri": "https://localhost:8080/"
    },
    "id": "jpy5SyPi4z4d",
    "outputId": "360a7267-47aa-4090-8380-33adc95e9ba9"
   },
   "outputs": [
    {
     "data": {
      "text/plain": [
       "<tf.Tensor: shape=(2, 768), dtype=float32, numpy=\n",
       "array([[-0.8806523 , -0.3831083 , -0.62446606, ..., -0.42110583,\n",
       "        -0.62964034,  0.8747804 ],\n",
       "       [-0.5140882 , -0.39360225, -0.8936088 , ..., -0.7950725 ,\n",
       "        -0.4616834 ,  0.63142467]], dtype=float32)>"
      ]
     },
     "execution_count": 20,
     "metadata": {},
     "output_type": "execute_result"
    }
   ],
   "source": [
    "# Defines a function to get the scentence embeddings for each entry\n",
    "def get_sentence_embedding(sentences):\n",
    "  # preprocess words\n",
    "  preprocessed_text = bert_preprocessor(sentences)\n",
    "\n",
    "  # get embedding vectors from the pooled_output key\n",
    "  return bert_model(preprocessed_text)['pooled_output']\n",
    "\n",
    "# Small scale driver to test function\n",
    "get_sentence_embedding([\n",
    "    'WINNER! As a valued network customer you hvae',\n",
    "    'Kit Strip - you have been billed 150p'\n",
    "])"
   ]
  },
  {
   "cell_type": "code",
   "execution_count": 21,
   "metadata": {
    "id": "DR0NEDidBm6l"
   },
   "outputs": [],
   "source": [
    "# Visualize getting embeddings for entire training set\n",
    "X_train_embeddings = get_sentence_embedding(X_train['v2'])\n",
    "\n",
    "# Get embeddings for testing set\n",
    "X_test_embeddings = get_sentence_embedding(X_test['v2'])"
   ]
  },
  {
   "cell_type": "code",
   "execution_count": 22,
   "metadata": {
    "colab": {
     "base_uri": "https://localhost:8080/"
    },
    "id": "3ci7py5xByQI",
    "outputId": "8322fec1-72b5-4851-aab7-19f0e8a92f12"
   },
   "outputs": [
    {
     "name": "stdout",
     "output_type": "stream",
     "text": [
      "Before(1120, 1)\n",
      "After(1120, 768)\n"
     ]
    }
   ],
   "source": [
    "# Before and after word embeddings\n",
    "print('Before' + str(X_train.shape))\n",
    "print('After' + str(X_train_embeddings.shape))"
   ]
  },
  {
   "cell_type": "code",
   "execution_count": 23,
   "metadata": {
    "id": "cxiADlp6L1Cd"
   },
   "outputs": [],
   "source": [
    "# Convert the y vectors for the softmax function\n",
    "y_train_one_hot = to_categorical(y_train, num_classes=2)\n",
    "y_test_one_hot = to_categorical(y_test, num_classes=2)"
   ]
  },
  {
   "cell_type": "markdown",
   "metadata": {
    "id": "pMpd5qBo72p0"
   },
   "source": [
    "# Create Neural Network\n"
   ]
  },
  {
   "cell_type": "code",
   "execution_count": 24,
   "metadata": {
    "id": "tTk1YYHq7bkS"
   },
   "outputs": [],
   "source": [
    "# Bert Layers for preprocessing and getting word embeddings\n",
    "text_input = tf.keras.layers.Input(shape=(), dtype=tf.string, name='text')\n",
    "preprocessed_text = bert_preprocessor(text_input)\n",
    "outputs = bert_model(preprocessed_text)\n",
    "\n",
    "# Neural network layers\n",
    "hiddenLayer = tf.keras.layers.Dense(50, name='hidden', activation='relu')(outputs['pooled_output'])\n",
    "dropoutLayer = tf.keras.layers.Dropout(0.1, name='drouput')(hiddenLayer)\n",
    "outputLayer = tf.keras.layers.Dense(2, activation='softmax', name='output') (dropoutLayer)\n",
    "\n",
    "# Final model\n",
    "model = tf.keras.Model(inputs=[text_input], outputs = [outputLayer])"
   ]
  },
  {
   "cell_type": "code",
   "execution_count": 25,
   "metadata": {
    "colab": {
     "base_uri": "https://localhost:8080/",
     "height": 238
    },
    "id": "sROWiuwrI4Jf",
    "outputId": "7e14965f-f3ed-41b0-91d0-f7e9771c0065"
   },
   "outputs": [
    {
     "name": "stdout",
     "output_type": "stream",
     "text": [
      "Model: \"model\"\n",
      "__________________________________________________________________________________________________\n",
      " Layer (type)                   Output Shape         Param #     Connected to                     \n",
      "==================================================================================================\n",
      " text (InputLayer)              [(None,)]            0           []                               \n",
      "                                                                                                  \n",
      " keras_layer (KerasLayer)       {'input_word_ids':   0           ['text[0][0]']                   \n",
      "                                (None, 128),                                                      \n",
      "                                 'input_type_ids':                                                \n",
      "                                (None, 128),                                                      \n",
      "                                 'input_mask': (Non                                               \n",
      "                                e, 128)}                                                          \n",
      "                                                                                                  \n",
      " keras_layer_1 (KerasLayer)     {'encoder_outputs':  109482241   ['keras_layer[0][0]',            \n",
      "                                 [(None, 128, 768),               'keras_layer[0][1]',            \n",
      "                                 (None, 128, 768),                'keras_layer[0][2]']            \n",
      "                                 (None, 128, 768),                                                \n",
      "                                 (None, 128, 768),                                                \n",
      "                                 (None, 128, 768),                                                \n",
      "                                 (None, 128, 768),                                                \n",
      "                                 (None, 128, 768),                                                \n",
      "                                 (None, 128, 768),                                                \n",
      "                                 (None, 128, 768),                                                \n",
      "                                 (None, 128, 768),                                                \n",
      "                                 (None, 128, 768),                                                \n",
      "                                 (None, 128, 768)],                                               \n",
      "                                 'pooled_output': (                                               \n",
      "                                None, 768),                                                       \n",
      "                                 'default': (None,                                                \n",
      "                                768),                                                             \n",
      "                                 'sequence_output':                                               \n",
      "                                 (None, 128, 768)}                                                \n",
      "                                                                                                  \n",
      " hidden (Dense)                 (None, 50)           38450       ['keras_layer_1[0][13]']         \n",
      "                                                                                                  \n",
      " drouput (Dropout)              (None, 50)           0           ['hidden[0][0]']                 \n",
      "                                                                                                  \n",
      " output (Dense)                 (None, 2)            102         ['drouput[0][0]']                \n",
      "                                                                                                  \n",
      "==================================================================================================\n",
      "Total params: 109,520,793\n",
      "Trainable params: 38,552\n",
      "Non-trainable params: 109,482,241\n",
      "__________________________________________________________________________________________________\n"
     ]
    }
   ],
   "source": [
    "# Get the model's summary\n",
    "model.summary()"
   ]
  },
  {
   "cell_type": "code",
   "execution_count": 26,
   "metadata": {
    "id": "J4dWnZ6yJXHP"
   },
   "outputs": [],
   "source": [
    "# Compile the model\n",
    "model.compile (\n",
    "    optimizer='adam',\n",
    "    loss='categorical_crossentropy',\n",
    "    metrics='accuracy'\n",
    ")"
   ]
  },
  {
   "cell_type": "code",
   "execution_count": 28,
   "metadata": {
    "colab": {
     "base_uri": "https://localhost:8080/"
    },
    "id": "zoVSMpC5KS_D",
    "outputId": "5d47aa40-6628-43be-e4b3-855dac5c2de2"
   },
   "outputs": [
    {
     "name": "stdout",
     "output_type": "stream",
     "text": [
      "Epoch 1/11\n",
      "35/35 [==============================] - 9s 260ms/step - loss: 0.1339 - accuracy: 0.9571\n",
      "Epoch 2/11\n",
      "35/35 [==============================] - 9s 261ms/step - loss: 0.1340 - accuracy: 0.9554\n",
      "Epoch 3/11\n",
      "35/35 [==============================] - 9s 262ms/step - loss: 0.1173 - accuracy: 0.9625\n",
      "Epoch 4/11\n",
      "35/35 [==============================] - 9s 264ms/step - loss: 0.1141 - accuracy: 0.9661\n",
      "Epoch 5/11\n",
      "35/35 [==============================] - 9s 266ms/step - loss: 0.1210 - accuracy: 0.9634\n",
      "Epoch 6/11\n",
      "35/35 [==============================] - 9s 269ms/step - loss: 0.1097 - accuracy: 0.9679\n",
      "Epoch 7/11\n",
      "35/35 [==============================] - 9s 265ms/step - loss: 0.1102 - accuracy: 0.9661\n",
      "Epoch 8/11\n",
      "35/35 [==============================] - 9s 267ms/step - loss: 0.1039 - accuracy: 0.9688\n",
      "Epoch 9/11\n",
      "35/35 [==============================] - 9s 268ms/step - loss: 0.1026 - accuracy: 0.9688\n",
      "Epoch 10/11\n",
      "35/35 [==============================] - 9s 267ms/step - loss: 0.1110 - accuracy: 0.9670\n",
      "Epoch 11/11\n",
      "35/35 [==============================] - 9s 268ms/step - loss: 0.1027 - accuracy: 0.9688\n"
     ]
    }
   ],
   "source": [
    "# Start training\n",
    "results = model.fit(\n",
    "    X_train,\n",
    "    y_train_one_hot,\n",
    "    epochs = 11\n",
    ")"
   ]
  },
  {
   "cell_type": "code",
   "execution_count": 29,
   "metadata": {
    "colab": {
     "base_uri": "https://localhost:8080/"
    },
    "id": "Jo4OCYzrLOzZ",
    "outputId": "caeba43d-1ff5-404d-9779-caf3922c4a33"
   },
   "outputs": [
    {
     "name": "stdout",
     "output_type": "stream",
     "text": [
      "Accuracy on Testing Set:\n",
      "12/12 [==============================] - 4s 255ms/step - loss: 0.0812 - accuracy: 0.9813\n"
     ]
    },
    {
     "data": {
      "text/plain": [
       "[0.08120762556791306, 0.98128342628479]"
      ]
     },
     "execution_count": 29,
     "metadata": {},
     "output_type": "execute_result"
    }
   ],
   "source": [
    "print('Accuracy on Testing Set:')\n",
    "model.evaluate(X_test, y_test_one_hot)"
   ]
  },
  {
   "cell_type": "markdown",
   "metadata": {
    "id": "R1yOVsMDNJMe"
   },
   "source": [
    "# Results"
   ]
  },
  {
   "cell_type": "code",
   "execution_count": 30,
   "metadata": {
    "colab": {
     "base_uri": "https://localhost:8080/",
     "height": 447
    },
    "id": "dyhjlGXvR-wN",
    "outputId": "b8355d39-0e5e-4e80-d23d-561cacb84501"
   },
   "outputs": [
    {
     "data": {
      "text/plain": [
       "<matplotlib.legend.Legend at 0x16077707888>"
      ]
     },
     "execution_count": 30,
     "metadata": {},
     "output_type": "execute_result"
    },
    {
     "data": {
      "image/png": "[encoded data removed]",
      "text/plain": [
       "<Figure size 640x480 with 1 Axes>"
      ]
     },
     "metadata": {},
     "output_type": "display_data"
    }
   ],
   "source": [
    "# Plot Accuracy\n",
    "plt.plot(results.history['accuracy'], label='Training accuracy')\n",
    "plt.legend()"
   ]
  },
  {
   "cell_type": "code",
   "execution_count": 31,
   "metadata": {
    "colab": {
     "base_uri": "https://localhost:8080/"
    },
    "id": "lRJztOE0NLCQ",
    "outputId": "c676c11e-60f4-4952-e21e-d223c34a7f16"
   },
   "outputs": [
    {
     "name": "stdout",
     "output_type": "stream",
     "text": [
      "12/12 [==============================] - 4s 276ms/step\n",
      "Predicted classes: [0 0 1 1 0 1 1 0 1 1 0 0 0 0 1 1 1 1 1 1 1 0 0 0 0 0 1 1 1 1 0 0 0 1 0 0 1\n",
      " 0 0 1 0 0 1 1 0 1 0 0 0 0 1 0 0 0 1 0 1 1 1 0 1 0 1 0 0 0 1 0 0 0 0 1 1 0\n",
      " 0 0 1 0 1 0 1 0 0 1 0 1 0 1 1 0 1 1 1 0 1 0 1 0 0 0 1 0 1 1 0 1 1 1 1 1 0\n",
      " 0 1 1 1 0 0 0 1 0 1 1 1 1 1 1 1 1 0 1 1 1 0 0 0 1 0 1 1 0 1 0 0 1 0 0 0 0\n",
      " 1 0 1 0 1 0 1 0 0 0 0 1 0 1 1 0 0 1 1 0 0 1 0 0 0 0 1 1 1 0 0 1 0 1 1 1 1\n",
      " 1 1 0 1 1 1 1 1 0 0 0 1 0 1 0 0 0 0 0 1 0 0 0 1 0 1 1 1 0 1 1 0 0 1 1 1 1\n",
      " 1 0 1 0 0 1 0 0 1 0 1 1 1 0 0 1 0 0 1 0 1 1 1 1 1 1 0 0 1 0 1 1 1 0 0 0 1\n",
      " 1 1 1 1 0 1 1 1 1 0 0 0 0 1 0 1 1 0 1 0 0 1 1 0 0 1 1 0 1 0 1 0 0 0 0 1 0\n",
      " 1 0 1 1 1 0 0 0 1 0 1 1 1 1 1 0 1 1 0 1 0 1 0 0 0 0 0 1 0 1 1 0 0 0 1 1 0\n",
      " 1 0 1 1 0 0 0 1 0 0 0 0 0 1 0 1 0 1 1 0 1 0 1 0 0 1 0 0 0 1 0 1 0 1 1 0 0\n",
      " 1 1 0 0]\n"
     ]
    }
   ],
   "source": [
    "import numpy as np\n",
    "\n",
    "# Sample predictions from a softmax output\n",
    "y_predicted = model.predict(X_test)  # Softmax predictions\n",
    "\n",
    "# Get the predicted class by finding the index of the maximum value along axis 1 (per row)\n",
    "y_predicted_classes = np.argmax(y_predicted, axis=1)  # Resulting in class labels\n",
    "\n",
    "# Check the predicted class labels\n",
    "print(\"Predicted classes:\", y_predicted_classes)"
   ]
  },
  {
   "cell_type": "code",
   "execution_count": 32,
   "metadata": {
    "id": "Bw6E3kUlO4dN"
   },
   "outputs": [
    {
     "data": {
      "text/html": [
       "<div>\n",
       "<style scoped>\n",
       "    .dataframe tbody tr th:only-of-type {\n",
       "        vertical-align: middle;\n",
       "    }\n",
       "\n",
       "    .dataframe tbody tr th {\n",
       "        vertical-align: top;\n",
       "    }\n",
       "\n",
       "    .dataframe thead th {\n",
       "        text-align: right;\n",
       "    }\n",
       "</style>\n",
       "<table border=\"1\" class=\"dataframe\">\n",
       "  <thead>\n",
       "    <tr style=\"text-align: right;\">\n",
       "      <th></th>\n",
       "      <th>v2</th>\n",
       "    </tr>\n",
       "  </thead>\n",
       "  <tbody>\n",
       "    <tr>\n",
       "      <th>4624</th>\n",
       "      <td>I'm on the bus. Love you</td>\n",
       "    </tr>\n",
       "    <tr>\n",
       "      <th>114</th>\n",
       "      <td>Wa, ur openin sentence very formal... Anyway, ...</td>\n",
       "    </tr>\n",
       "    <tr>\n",
       "      <th>5010</th>\n",
       "      <td>You have WON a guaranteed å£1000 cash or a å£2...</td>\n",
       "    </tr>\n",
       "    <tr>\n",
       "      <th>1852</th>\n",
       "      <td>This is the 2nd time we have tried 2 contact u...</td>\n",
       "    </tr>\n",
       "    <tr>\n",
       "      <th>3568</th>\n",
       "      <td>She's fine. Sends her greetings</td>\n",
       "    </tr>\n",
       "  </tbody>\n",
       "</table>\n",
       "</div>"
      ],
      "text/plain": [
       "                                                     v2\n",
       "4624                           I'm on the bus. Love you\n",
       "114   Wa, ur openin sentence very formal... Anyway, ...\n",
       "5010  You have WON a guaranteed å£1000 cash or a å£2...\n",
       "1852  This is the 2nd time we have tried 2 contact u...\n",
       "3568                    She's fine. Sends her greetings"
      ]
     },
     "execution_count": 32,
     "metadata": {},
     "output_type": "execute_result"
    }
   ],
   "source": [
    "X_test.head()"
   ]
  },
  {
   "cell_type": "code",
   "execution_count": 33,
   "metadata": {
    "colab": {
     "base_uri": "https://localhost:8080/"
    },
    "id": "0_5Ezv6xOnoH",
    "outputId": "839f650a-652e-42dc-e394-b7466d032f2d"
   },
   "outputs": [
    {
     "name": "stdout",
     "output_type": "stream",
     "text": [
      "Sample 1: 'I'm on the bus. Love you'\n",
      "Prediction: Not spam \n",
      "\n",
      "Sample 2: 'Wa, ur openin sentence very formal... Anyway, i'm fine too, juz tt i'm eatin too much n puttin on weight...Haha... So anythin special happened?'\n",
      "Prediction: Not spam \n",
      "\n",
      "Sample 3: 'You have WON a guaranteed å£1000 cash or a å£2000 prize. To claim yr prize call our customer service representative on 08714712412 between 10am-7pm Cost 10p'\n",
      "Prediction: Spam \n",
      "\n",
      "Sample 4: 'This is the 2nd time we have tried 2 contact u. U have won the 750 Pound prize. 2 claim is easy, call 08718726970 NOW! Only 10p per min. BT-national-rate '\n",
      "Prediction: Spam \n",
      "\n",
      "Sample 5: 'She's fine. Sends her greetings'\n",
      "Prediction: Not spam \n",
      "\n",
      "Sample 6: 'Do you want a new Video phone? 600 anytime any network mins 400 Inclusive Video calls AND downloads 5 per week Free delTOMORROW call 08002888812 or reply NOW'\n",
      "Prediction: Spam \n",
      "\n",
      "Sample 7: 'Do you want a new video handset? 750 anytime any network mins? Half Price Line Rental? Camcorder? Reply or call 08000930705 for delivery tomorrow'\n",
      "Prediction: Spam \n",
      "\n",
      "Sample 8: 'Alex knows a guy who sells mids but he's down in south tampa and I don't think I could set it up before like 8'\n",
      "Prediction: Not spam \n",
      "\n",
      "Sample 9: 'YOU HAVE WON! As a valued Vodafone customer our computer has picked YOU to win a å£150 prize. To collect is easy. Just call 09061743386 '\n",
      "Prediction: Spam \n",
      "\n",
      "Sample 10: 'Urgent! Please call 09061213237 from landline. å£5000 cash or a luxury 4* Canary Islands Holiday await collection. T&Cs SAE PO Box 177. M227XY. 150ppm. 16+'\n",
      "Prediction: Spam \n",
      "\n",
      "Sample 11: 'Was actually sleeping and still might when u call back. So a text is gr8. You rock sis. Will send u a text wen i wake.'\n",
      "Prediction: Not spam \n",
      "\n",
      "Sample 12: 'In that case I guess I'll see you at campus lodge'\n",
      "Prediction: Not spam \n",
      "\n",
      "Sample 13: 'They finally came to fix the ceiling.'\n",
      "Prediction: Not spam \n",
      "\n",
      "Sample 14: 'Tell them the drug dealer's getting impatient'\n",
      "Prediction: Not spam \n",
      "\n",
      "Sample 15: 'No. 1 Nokia Tone 4 ur mob every week! Just txt NOK to 87021. 1st Tone FREE ! so get txtin now and tell ur friends. 150p/tone. 16 reply HL 4info'\n",
      "Prediction: Spam \n",
      "\n",
      "Sample 16: 'Dear Voucher Holder, To claim this weeks offer, at you PC please go to http://www.e-tlp.co.uk/expressoffer Ts&Cs apply. To stop texts, txt STOP to 80062'\n",
      "Prediction: Spam \n",
      "\n",
      "Sample 17: 'You have won a guaranteed å£200 award or even å£1000 cashto claim UR award call free on 08000407165 (18+) 2 stop getstop on 88222 PHP'\n",
      "Prediction: Spam \n",
      "\n",
      "Sample 18: 'ringtoneking 84484'\n",
      "Prediction: Spam \n",
      "\n",
      "Sample 19: 'Buy Space Invaders 4 a chance 2 win orig Arcade Game console. Press 0 for Games Arcade (std WAP charge) See o2.co.uk/games 4 Terms + settings. No purchase'\n",
      "Prediction: Spam \n",
      "\n",
      "Sample 20: 'Hard LIVE 121 chat just 60p/min. Choose your girl and connect LIVE. Call 09094646899 now! Cheap Chat UK's biggest live service. VU BCM1896WC1N3XX'\n",
      "Prediction: Spam \n",
      "\n"
     ]
    }
   ],
   "source": [
    "# Loop through the first 20 samples\n",
    "for i in range(20):\n",
    "    sample_text = X_test.iloc[i]['v2'] # The original text for the sample\n",
    "    prediction = y_predicted_classes[i]  # The predicted output (0 or 1)\n",
    "\n",
    "    # Convert the prediction to a human-readable label\n",
    "    if prediction == 0:\n",
    "        label = \"Not spam\"\n",
    "    elif prediction == 1:\n",
    "        label = \"Spam\"\n",
    "\n",
    "    # Display the sample text and its predicted output\n",
    "    print(f\"Sample {i+1}: '{sample_text}'\")\n",
    "    print(f\"Prediction: {label} \\n\")\n"
   ]
  },
  {
   "cell_type": "code",
   "execution_count": 34,
   "metadata": {
    "colab": {
     "base_uri": "https://localhost:8080/",
     "height": 616
    },
    "id": "w4BFlhVjQhL4",
    "outputId": "f809007b-3c8f-4cec-a6ca-f5f7696a2c98"
   },
   "outputs": [
    {
     "name": "stdout",
     "output_type": "stream",
     "text": [
      "Confusion Matrix:\n",
      "[[184   3]\n",
      " [  4 183]]\n"
     ]
    },
    {
     "data": {
      "image/png": "[encoded data removed]",
      "text/plain": [
       "<Figure size 600x600 with 2 Axes>"
      ]
     },
     "metadata": {},
     "output_type": "display_data"
    }
   ],
   "source": [
    "# Assuming softmax predictions from the model\n",
    "y_predicted_classes = np.argmax(y_predicted, axis=1)  # Convert softmax predictions to class labels\n",
    "\n",
    "# Converting one-hot labels to class labels\n",
    "y_test_classes = np.argmax(y_test_one_hot, axis=1)  # From one-hot to class labels\n",
    "\n",
    "# Generate the confusion matrix\n",
    "conf_matrix = confusion_matrix(y_test_classes, y_predicted_classes)  # True vs. predicted classes\n",
    "\n",
    "# Print the confusion matrix to see the raw data\n",
    "print(\"Confusion Matrix:\")\n",
    "print(conf_matrix)\n",
    "\n",
    "# Optional: Visualize the confusion matrix with a heatmap\n",
    "plt.figure(figsize=(6, 6))\n",
    "sns.heatmap(conf_matrix, annot=True, fmt=\"d\", cmap=\"Blues\", xticklabels=[\"Not Spam\", \"Spam\"], yticklabels=[\"Not Spam\", \"Spam\"])\n",
    "plt.xlabel(\"Predicted\")\n",
    "plt.ylabel(\"True\")\n",
    "plt.title(\"Confusion Matrix\")\n",
    "plt.show()\n"
   ]
  },
  {
   "cell_type": "code",
   "execution_count": 36,
   "metadata": {},
   "outputs": [
    {
     "name": "stdout",
     "output_type": "stream",
     "text": [
      "1/1 [==============================] - 0s 61ms/step\n"
     ]
    },
    {
     "data": {
      "text/plain": [
       "array([[0.04017913, 0.95982087],\n",
       "       [0.00373652, 0.99626344],\n",
       "       [0.13287874, 0.8671212 ],\n",
       "       [0.9613589 , 0.03864108],\n",
       "       [0.9815014 , 0.01849861]], dtype=float32)"
      ]
     },
     "execution_count": 36,
     "metadata": {},
     "output_type": "execute_result"
    }
   ],
   "source": [
    "reviews = [\n",
    "    'Enter a chance to win $5000, hurry up, offer valid until march 31, 2021',\n",
    "    'You are awarded a SiPix Digital Camera! call 09061221061 from landline. Delivery within 28days. T Cs Box177. M221BP. 2yr warranty. 150ppm. 16 . p pÂ£3.99',\n",
    "    'it to 80488. Your 500 free text messages are valid until 31 December 2005.',\n",
    "    'Hey Sam, Are you coming for the game tomorrow',\n",
    "    \"Why don't you wait 'til at least wednesday to see if you get your book.\"\n",
    "]\n",
    "# Will return softmax output, prediction is whatever index is higher\n",
    "model.predict(reviews) "
   ]
  }
 ],
 "metadata": {
  "accelerator": "GPU",
  "colab": {
   "gpuType": "T4",
   "machine_shape": "hm",
   "provenance": []
  },
  "kernelspec": {
   "display_name": "Python 3 (ipykernel)",
   "language": "python",
   "name": "python3"
  },
  "language_info": {
   "codemirror_mode": {
    "name": "ipython",
    "version": 3
   },
   "file_extension": ".py",
   "mimetype": "text/x-python",
   "name": "python",
   "nbconvert_exporter": "python",
   "pygments_lexer": "ipython3",
   "version": "3.7.12"
  }
 },
 "nbformat": 4,
 "nbformat_minor": 1
}
